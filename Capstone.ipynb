{
  "cells": [
    {
      "cell_type": "markdown",
      "metadata": {
        "id": "aqcBb0qnOOW_"
      },
      "source": [
        "🎓 Judul Proyek\n",
        "\n",
        "Analisis Pengaruh Kebiasaan Gaya Hidup terhadap Performa Akademik Mahasiswa Menggunakan Machine Learning"
      ]
    },
    {
      "cell_type": "markdown",
      "metadata": {
        "id": "gI3MoSP3SJNU"
      },
      "source": [
        "🧩 Latar Belakang\n",
        "\n",
        "Performa akademik mahasiswa sering dikaitkan dengan seberapa rajin mereka belajar, namun gaya hidup sehari-hari juga memiliki pengaruh besar terhadap hasil belajar. Pola tidur, penggunaan media sosial, aktivitas fisik, hingga kondisi mental dapat memengaruhi konsentrasi, produktivitas, dan hasil ujian akhir.\n",
        "\n",
        "Dengan data yang mensimulasikan kebiasaan 1.000 mahasiswa secara realistis, kita dapat memanfaatkan pendekatan berbasis data untuk mengeksplorasi dan memahami bagaimana berbagai aspek kebiasaan ini saling berhubungan dan berdampak pada nilai akademik. Proyek ini bertujuan menjadi studi eksploratif dan prediktif untuk meningkatkan kesadaran pentingnya gaya hidup sehat dalam pendidikan."
      ]
    },
    {
      "cell_type": "markdown",
      "metadata": {
        "id": "O01i8CacSPS_"
      },
      "source": [
        "🎯 Tujuan Proyek\n",
        "1. Menyajikan gambaran umum mengenai kebiasaan gaya hidup mahasiswa, seperti durasi tidur, waktu belajar, penggunaan media sosial, dan aktivitas harian lainnya, serta hubungannya dengan performa akademik (exam score).\n",
        "\n",
        "2. Melakukan eksplorasi data (EDA) untuk mengidentifikasi pola atau korelasi antara gaya hidup—khususnya jam tidur, penggunaan media sosial, dan durasi belajar—dengan nilai ujian akhir mahasiswa.\n",
        "\n",
        "3. Membangun model klasifikasi machine learning untuk memprediksi apakah seorang mahasiswa memiliki performa akademik tinggi atau rendah, berdasarkan indikator kebiasaan harian mereka seperti waktu menonton Netflix, tidur, belajar, dan penggunaan media sosial.\n",
        "\n",
        "4. Mengevaluasi apakah kebiasaan menggunakan media sosial, seperti TikTok dan Instagram, memiliki pengaruh signifikan terhadap performa akademik, serta membandingkannya dengan faktor-faktor gaya hidup lainnya.\n",
        "\n",
        "5. Menghasilkan insight dan rekomendasi berbasis data yang dapat digunakan untuk membantu mahasiswa memperbaiki kebiasaan harian agar lebih mendukung pencapaian akademik yang optimal."
      ]
    },
    {
      "cell_type": "markdown",
      "metadata": {
        "id": "f6KZN9Q0SXdL"
      },
      "source": [
        "💻 Step-by-Step Proyek Google Colab"
      ]
    },
    {
      "cell_type": "markdown",
      "metadata": {
        "id": "xXdWh1DoSbEF"
      },
      "source": [
        "✅ Step 1: Instalasi dan Impor Library"
      ]
    },
    {
      "cell_type": "code",
      "execution_count": 3,
      "metadata": {
        "id": "x0gUl9XqMskC"
      },
      "outputs": [],
      "source": [
        "!pip install -q kagglehub\n",
        "\n",
        "import pandas as pd\n",
        "import numpy as np\n",
        "import seaborn as sns\n",
        "import matplotlib.pyplot as plt\n",
        "import kagglehub\n",
        "import os\n",
        "from sklearn.model_selection import train_test_split\n",
        "from sklearn.preprocessing import LabelEncoder, StandardScaler\n",
        "from sklearn.ensemble import RandomForestClassifier\n",
        "from sklearn.metrics import classification_report, confusion_matrix"
      ]
    },
    {
      "cell_type": "markdown",
      "metadata": {
        "id": "ifufmKVQSpkf"
      },
      "source": [
        "✅ Step 2: Unduh dan Muat Dataset"
      ]
    },
    {
      "cell_type": "code",
      "execution_count": 4,
      "metadata": {
        "colab": {
          "base_uri": "https://localhost:8080/",
          "height": 261
        },
        "id": "hULm5aFfSscq",
        "outputId": "8e2d137d-23b4-4140-c58a-ce75cfff16cd"
      },
      "outputs": [
        {
          "name": "stdout",
          "output_type": "stream",
          "text": [
            "Path dataset: /kaggle/input/student-habits-vs-academic-performance\n",
            "['student_habits_performance.csv']\n"
          ]
        },
        {
          "data": {
            "application/vnd.google.colaboratory.intrinsic+json": {
              "summary": "{\n  \"name\": \"df\",\n  \"rows\": 1000,\n  \"fields\": [\n    {\n      \"column\": \"student_id\",\n      \"properties\": {\n        \"dtype\": \"string\",\n        \"num_unique_values\": 1000,\n        \"samples\": [\n          \"S1521\",\n          \"S1737\",\n          \"S1740\"\n        ],\n        \"semantic_type\": \"\",\n        \"description\": \"\"\n      }\n    },\n    {\n      \"column\": \"age\",\n      \"properties\": {\n        \"dtype\": \"number\",\n        \"std\": 2,\n        \"min\": 17,\n        \"max\": 24,\n        \"num_unique_values\": 8,\n        \"samples\": [\n          20,\n          18,\n          23\n        ],\n        \"semantic_type\": \"\",\n        \"description\": \"\"\n      }\n    },\n    {\n      \"column\": \"gender\",\n      \"properties\": {\n        \"dtype\": \"category\",\n        \"num_unique_values\": 3,\n        \"samples\": [\n          \"Female\",\n          \"Male\",\n          \"Other\"\n        ],\n        \"semantic_type\": \"\",\n        \"description\": \"\"\n      }\n    },\n    {\n      \"column\": \"study_hours_per_day\",\n      \"properties\": {\n        \"dtype\": \"number\",\n        \"std\": 1.4688899303990155,\n        \"min\": 0.0,\n        \"max\": 8.3,\n        \"num_unique_values\": 78,\n        \"samples\": [\n          5.4,\n          0.0,\n          2.2\n        ],\n        \"semantic_type\": \"\",\n        \"description\": \"\"\n      }\n    },\n    {\n      \"column\": \"social_media_hours\",\n      \"properties\": {\n        \"dtype\": \"number\",\n        \"std\": 1.1724224171877315,\n        \"min\": 0.0,\n        \"max\": 7.2,\n        \"num_unique_values\": 60,\n        \"samples\": [\n          1.2,\n          1.3,\n          0.1\n        ],\n        \"semantic_type\": \"\",\n        \"description\": \"\"\n      }\n    },\n    {\n      \"column\": \"netflix_hours\",\n      \"properties\": {\n        \"dtype\": \"number\",\n        \"std\": 1.0751175692861612,\n        \"min\": 0.0,\n        \"max\": 5.4,\n        \"num_unique_values\": 51,\n        \"samples\": [\n          0.3,\n          3.7,\n          4.6\n        ],\n        \"semantic_type\": \"\",\n        \"description\": \"\"\n      }\n    },\n    {\n      \"column\": \"part_time_job\",\n      \"properties\": {\n        \"dtype\": \"category\",\n        \"num_unique_values\": 2,\n        \"samples\": [\n          \"Yes\",\n          \"No\"\n        ],\n        \"semantic_type\": \"\",\n        \"description\": \"\"\n      }\n    },\n    {\n      \"column\": \"attendance_percentage\",\n      \"properties\": {\n        \"dtype\": \"number\",\n        \"std\": 9.399246296429354,\n        \"min\": 56.0,\n        \"max\": 100.0,\n        \"num_unique_values\": 320,\n        \"samples\": [\n          75.7,\n          90.3\n        ],\n        \"semantic_type\": \"\",\n        \"description\": \"\"\n      }\n    },\n    {\n      \"column\": \"sleep_hours\",\n      \"properties\": {\n        \"dtype\": \"number\",\n        \"std\": 1.226376773259339,\n        \"min\": 3.2,\n        \"max\": 10.0,\n        \"num_unique_values\": 68,\n        \"samples\": [\n          8.2,\n          6.0\n        ],\n        \"semantic_type\": \"\",\n        \"description\": \"\"\n      }\n    },\n    {\n      \"column\": \"diet_quality\",\n      \"properties\": {\n        \"dtype\": \"category\",\n        \"num_unique_values\": 3,\n        \"samples\": [\n          \"Fair\",\n          \"Good\"\n        ],\n        \"semantic_type\": \"\",\n        \"description\": \"\"\n      }\n    },\n    {\n      \"column\": \"exercise_frequency\",\n      \"properties\": {\n        \"dtype\": \"number\",\n        \"std\": 2,\n        \"min\": 0,\n        \"max\": 6,\n        \"num_unique_values\": 7,\n        \"samples\": [\n          6,\n          1\n        ],\n        \"semantic_type\": \"\",\n        \"description\": \"\"\n      }\n    },\n    {\n      \"column\": \"parental_education_level\",\n      \"properties\": {\n        \"dtype\": \"category\",\n        \"num_unique_values\": 3,\n        \"samples\": [\n          \"Master\",\n          \"High School\"\n        ],\n        \"semantic_type\": \"\",\n        \"description\": \"\"\n      }\n    },\n    {\n      \"column\": \"internet_quality\",\n      \"properties\": {\n        \"dtype\": \"category\",\n        \"num_unique_values\": 3,\n        \"samples\": [\n          \"Average\",\n          \"Poor\"\n        ],\n        \"semantic_type\": \"\",\n        \"description\": \"\"\n      }\n    },\n    {\n      \"column\": \"mental_health_rating\",\n      \"properties\": {\n        \"dtype\": \"number\",\n        \"std\": 2,\n        \"min\": 1,\n        \"max\": 10,\n        \"num_unique_values\": 10,\n        \"samples\": [\n          2,\n          1\n        ],\n        \"semantic_type\": \"\",\n        \"description\": \"\"\n      }\n    },\n    {\n      \"column\": \"extracurricular_participation\",\n      \"properties\": {\n        \"dtype\": \"category\",\n        \"num_unique_values\": 2,\n        \"samples\": [\n          \"No\",\n          \"Yes\"\n        ],\n        \"semantic_type\": \"\",\n        \"description\": \"\"\n      }\n    },\n    {\n      \"column\": \"exam_score\",\n      \"properties\": {\n        \"dtype\": \"number\",\n        \"std\": 16.88856392181825,\n        \"min\": 18.4,\n        \"max\": 100.0,\n        \"num_unique_values\": 480,\n        \"samples\": [\n          53.5,\n          59.3\n        ],\n        \"semantic_type\": \"\",\n        \"description\": \"\"\n      }\n    }\n  ]\n}",
              "type": "dataframe",
              "variable_name": "df"
            },
            "text/html": [
              "\n",
              "  <div id=\"df-586a553d-8762-4a08-9624-6b598b2e686b\" class=\"colab-df-container\">\n",
              "    <div>\n",
              "<style scoped>\n",
              "    .dataframe tbody tr th:only-of-type {\n",
              "        vertical-align: middle;\n",
              "    }\n",
              "\n",
              "    .dataframe tbody tr th {\n",
              "        vertical-align: top;\n",
              "    }\n",
              "\n",
              "    .dataframe thead th {\n",
              "        text-align: right;\n",
              "    }\n",
              "</style>\n",
              "<table border=\"1\" class=\"dataframe\">\n",
              "  <thead>\n",
              "    <tr style=\"text-align: right;\">\n",
              "      <th></th>\n",
              "      <th>student_id</th>\n",
              "      <th>age</th>\n",
              "      <th>gender</th>\n",
              "      <th>study_hours_per_day</th>\n",
              "      <th>social_media_hours</th>\n",
              "      <th>netflix_hours</th>\n",
              "      <th>part_time_job</th>\n",
              "      <th>attendance_percentage</th>\n",
              "      <th>sleep_hours</th>\n",
              "      <th>diet_quality</th>\n",
              "      <th>exercise_frequency</th>\n",
              "      <th>parental_education_level</th>\n",
              "      <th>internet_quality</th>\n",
              "      <th>mental_health_rating</th>\n",
              "      <th>extracurricular_participation</th>\n",
              "      <th>exam_score</th>\n",
              "    </tr>\n",
              "  </thead>\n",
              "  <tbody>\n",
              "    <tr>\n",
              "      <th>0</th>\n",
              "      <td>S1000</td>\n",
              "      <td>23</td>\n",
              "      <td>Female</td>\n",
              "      <td>0.0</td>\n",
              "      <td>1.2</td>\n",
              "      <td>1.1</td>\n",
              "      <td>No</td>\n",
              "      <td>85.0</td>\n",
              "      <td>8.0</td>\n",
              "      <td>Fair</td>\n",
              "      <td>6</td>\n",
              "      <td>Master</td>\n",
              "      <td>Average</td>\n",
              "      <td>8</td>\n",
              "      <td>Yes</td>\n",
              "      <td>56.2</td>\n",
              "    </tr>\n",
              "    <tr>\n",
              "      <th>1</th>\n",
              "      <td>S1001</td>\n",
              "      <td>20</td>\n",
              "      <td>Female</td>\n",
              "      <td>6.9</td>\n",
              "      <td>2.8</td>\n",
              "      <td>2.3</td>\n",
              "      <td>No</td>\n",
              "      <td>97.3</td>\n",
              "      <td>4.6</td>\n",
              "      <td>Good</td>\n",
              "      <td>6</td>\n",
              "      <td>High School</td>\n",
              "      <td>Average</td>\n",
              "      <td>8</td>\n",
              "      <td>No</td>\n",
              "      <td>100.0</td>\n",
              "    </tr>\n",
              "    <tr>\n",
              "      <th>2</th>\n",
              "      <td>S1002</td>\n",
              "      <td>21</td>\n",
              "      <td>Male</td>\n",
              "      <td>1.4</td>\n",
              "      <td>3.1</td>\n",
              "      <td>1.3</td>\n",
              "      <td>No</td>\n",
              "      <td>94.8</td>\n",
              "      <td>8.0</td>\n",
              "      <td>Poor</td>\n",
              "      <td>1</td>\n",
              "      <td>High School</td>\n",
              "      <td>Poor</td>\n",
              "      <td>1</td>\n",
              "      <td>No</td>\n",
              "      <td>34.3</td>\n",
              "    </tr>\n",
              "    <tr>\n",
              "      <th>3</th>\n",
              "      <td>S1003</td>\n",
              "      <td>23</td>\n",
              "      <td>Female</td>\n",
              "      <td>1.0</td>\n",
              "      <td>3.9</td>\n",
              "      <td>1.0</td>\n",
              "      <td>No</td>\n",
              "      <td>71.0</td>\n",
              "      <td>9.2</td>\n",
              "      <td>Poor</td>\n",
              "      <td>4</td>\n",
              "      <td>Master</td>\n",
              "      <td>Good</td>\n",
              "      <td>1</td>\n",
              "      <td>Yes</td>\n",
              "      <td>26.8</td>\n",
              "    </tr>\n",
              "    <tr>\n",
              "      <th>4</th>\n",
              "      <td>S1004</td>\n",
              "      <td>19</td>\n",
              "      <td>Female</td>\n",
              "      <td>5.0</td>\n",
              "      <td>4.4</td>\n",
              "      <td>0.5</td>\n",
              "      <td>No</td>\n",
              "      <td>90.9</td>\n",
              "      <td>4.9</td>\n",
              "      <td>Fair</td>\n",
              "      <td>3</td>\n",
              "      <td>Master</td>\n",
              "      <td>Good</td>\n",
              "      <td>1</td>\n",
              "      <td>No</td>\n",
              "      <td>66.4</td>\n",
              "    </tr>\n",
              "  </tbody>\n",
              "</table>\n",
              "</div>\n",
              "    <div class=\"colab-df-buttons\">\n",
              "\n",
              "  <div class=\"colab-df-container\">\n",
              "    <button class=\"colab-df-convert\" onclick=\"convertToInteractive('df-586a553d-8762-4a08-9624-6b598b2e686b')\"\n",
              "            title=\"Convert this dataframe to an interactive table.\"\n",
              "            style=\"display:none;\">\n",
              "\n",
              "  <svg xmlns=\"http://www.w3.org/2000/svg\" height=\"24px\" viewBox=\"0 -960 960 960\">\n",
              "    <path d=\"M120-120v-720h720v720H120Zm60-500h600v-160H180v160Zm220 220h160v-160H400v160Zm0 220h160v-160H400v160ZM180-400h160v-160H180v160Zm440 0h160v-160H620v160ZM180-180h160v-160H180v160Zm440 0h160v-160H620v160Z\"/>\n",
              "  </svg>\n",
              "    </button>\n",
              "\n",
              "  <style>\n",
              "    .colab-df-container {\n",
              "      display:flex;\n",
              "      gap: 12px;\n",
              "    }\n",
              "\n",
              "    .colab-df-convert {\n",
              "      background-color: #E8F0FE;\n",
              "      border: none;\n",
              "      border-radius: 50%;\n",
              "      cursor: pointer;\n",
              "      display: none;\n",
              "      fill: #1967D2;\n",
              "      height: 32px;\n",
              "      padding: 0 0 0 0;\n",
              "      width: 32px;\n",
              "    }\n",
              "\n",
              "    .colab-df-convert:hover {\n",
              "      background-color: #E2EBFA;\n",
              "      box-shadow: 0px 1px 2px rgba(60, 64, 67, 0.3), 0px 1px 3px 1px rgba(60, 64, 67, 0.15);\n",
              "      fill: #174EA6;\n",
              "    }\n",
              "\n",
              "    .colab-df-buttons div {\n",
              "      margin-bottom: 4px;\n",
              "    }\n",
              "\n",
              "    [theme=dark] .colab-df-convert {\n",
              "      background-color: #3B4455;\n",
              "      fill: #D2E3FC;\n",
              "    }\n",
              "\n",
              "    [theme=dark] .colab-df-convert:hover {\n",
              "      background-color: #434B5C;\n",
              "      box-shadow: 0px 1px 3px 1px rgba(0, 0, 0, 0.15);\n",
              "      filter: drop-shadow(0px 1px 2px rgba(0, 0, 0, 0.3));\n",
              "      fill: #FFFFFF;\n",
              "    }\n",
              "  </style>\n",
              "\n",
              "    <script>\n",
              "      const buttonEl =\n",
              "        document.querySelector('#df-586a553d-8762-4a08-9624-6b598b2e686b button.colab-df-convert');\n",
              "      buttonEl.style.display =\n",
              "        google.colab.kernel.accessAllowed ? 'block' : 'none';\n",
              "\n",
              "      async function convertToInteractive(key) {\n",
              "        const element = document.querySelector('#df-586a553d-8762-4a08-9624-6b598b2e686b');\n",
              "        const dataTable =\n",
              "          await google.colab.kernel.invokeFunction('convertToInteractive',\n",
              "                                                    [key], {});\n",
              "        if (!dataTable) return;\n",
              "\n",
              "        const docLinkHtml = 'Like what you see? Visit the ' +\n",
              "          '<a target=\"_blank\" href=https://colab.research.google.com/notebooks/data_table.ipynb>data table notebook</a>'\n",
              "          + ' to learn more about interactive tables.';\n",
              "        element.innerHTML = '';\n",
              "        dataTable['output_type'] = 'display_data';\n",
              "        await google.colab.output.renderOutput(dataTable, element);\n",
              "        const docLink = document.createElement('div');\n",
              "        docLink.innerHTML = docLinkHtml;\n",
              "        element.appendChild(docLink);\n",
              "      }\n",
              "    </script>\n",
              "  </div>\n",
              "\n",
              "\n",
              "    <div id=\"df-1728f253-71e7-4d01-8f5f-e5c09859893e\">\n",
              "      <button class=\"colab-df-quickchart\" onclick=\"quickchart('df-1728f253-71e7-4d01-8f5f-e5c09859893e')\"\n",
              "                title=\"Suggest charts\"\n",
              "                style=\"display:none;\">\n",
              "\n",
              "<svg xmlns=\"http://www.w3.org/2000/svg\" height=\"24px\"viewBox=\"0 0 24 24\"\n",
              "     width=\"24px\">\n",
              "    <g>\n",
              "        <path d=\"M19 3H5c-1.1 0-2 .9-2 2v14c0 1.1.9 2 2 2h14c1.1 0 2-.9 2-2V5c0-1.1-.9-2-2-2zM9 17H7v-7h2v7zm4 0h-2V7h2v10zm4 0h-2v-4h2v4z\"/>\n",
              "    </g>\n",
              "</svg>\n",
              "      </button>\n",
              "\n",
              "<style>\n",
              "  .colab-df-quickchart {\n",
              "      --bg-color: #E8F0FE;\n",
              "      --fill-color: #1967D2;\n",
              "      --hover-bg-color: #E2EBFA;\n",
              "      --hover-fill-color: #174EA6;\n",
              "      --disabled-fill-color: #AAA;\n",
              "      --disabled-bg-color: #DDD;\n",
              "  }\n",
              "\n",
              "  [theme=dark] .colab-df-quickchart {\n",
              "      --bg-color: #3B4455;\n",
              "      --fill-color: #D2E3FC;\n",
              "      --hover-bg-color: #434B5C;\n",
              "      --hover-fill-color: #FFFFFF;\n",
              "      --disabled-bg-color: #3B4455;\n",
              "      --disabled-fill-color: #666;\n",
              "  }\n",
              "\n",
              "  .colab-df-quickchart {\n",
              "    background-color: var(--bg-color);\n",
              "    border: none;\n",
              "    border-radius: 50%;\n",
              "    cursor: pointer;\n",
              "    display: none;\n",
              "    fill: var(--fill-color);\n",
              "    height: 32px;\n",
              "    padding: 0;\n",
              "    width: 32px;\n",
              "  }\n",
              "\n",
              "  .colab-df-quickchart:hover {\n",
              "    background-color: var(--hover-bg-color);\n",
              "    box-shadow: 0 1px 2px rgba(60, 64, 67, 0.3), 0 1px 3px 1px rgba(60, 64, 67, 0.15);\n",
              "    fill: var(--button-hover-fill-color);\n",
              "  }\n",
              "\n",
              "  .colab-df-quickchart-complete:disabled,\n",
              "  .colab-df-quickchart-complete:disabled:hover {\n",
              "    background-color: var(--disabled-bg-color);\n",
              "    fill: var(--disabled-fill-color);\n",
              "    box-shadow: none;\n",
              "  }\n",
              "\n",
              "  .colab-df-spinner {\n",
              "    border: 2px solid var(--fill-color);\n",
              "    border-color: transparent;\n",
              "    border-bottom-color: var(--fill-color);\n",
              "    animation:\n",
              "      spin 1s steps(1) infinite;\n",
              "  }\n",
              "\n",
              "  @keyframes spin {\n",
              "    0% {\n",
              "      border-color: transparent;\n",
              "      border-bottom-color: var(--fill-color);\n",
              "      border-left-color: var(--fill-color);\n",
              "    }\n",
              "    20% {\n",
              "      border-color: transparent;\n",
              "      border-left-color: var(--fill-color);\n",
              "      border-top-color: var(--fill-color);\n",
              "    }\n",
              "    30% {\n",
              "      border-color: transparent;\n",
              "      border-left-color: var(--fill-color);\n",
              "      border-top-color: var(--fill-color);\n",
              "      border-right-color: var(--fill-color);\n",
              "    }\n",
              "    40% {\n",
              "      border-color: transparent;\n",
              "      border-right-color: var(--fill-color);\n",
              "      border-top-color: var(--fill-color);\n",
              "    }\n",
              "    60% {\n",
              "      border-color: transparent;\n",
              "      border-right-color: var(--fill-color);\n",
              "    }\n",
              "    80% {\n",
              "      border-color: transparent;\n",
              "      border-right-color: var(--fill-color);\n",
              "      border-bottom-color: var(--fill-color);\n",
              "    }\n",
              "    90% {\n",
              "      border-color: transparent;\n",
              "      border-bottom-color: var(--fill-color);\n",
              "    }\n",
              "  }\n",
              "</style>\n",
              "\n",
              "      <script>\n",
              "        async function quickchart(key) {\n",
              "          const quickchartButtonEl =\n",
              "            document.querySelector('#' + key + ' button');\n",
              "          quickchartButtonEl.disabled = true;  // To prevent multiple clicks.\n",
              "          quickchartButtonEl.classList.add('colab-df-spinner');\n",
              "          try {\n",
              "            const charts = await google.colab.kernel.invokeFunction(\n",
              "                'suggestCharts', [key], {});\n",
              "          } catch (error) {\n",
              "            console.error('Error during call to suggestCharts:', error);\n",
              "          }\n",
              "          quickchartButtonEl.classList.remove('colab-df-spinner');\n",
              "          quickchartButtonEl.classList.add('colab-df-quickchart-complete');\n",
              "        }\n",
              "        (() => {\n",
              "          let quickchartButtonEl =\n",
              "            document.querySelector('#df-1728f253-71e7-4d01-8f5f-e5c09859893e button');\n",
              "          quickchartButtonEl.style.display =\n",
              "            google.colab.kernel.accessAllowed ? 'block' : 'none';\n",
              "        })();\n",
              "      </script>\n",
              "    </div>\n",
              "\n",
              "    </div>\n",
              "  </div>\n"
            ],
            "text/plain": [
              "  student_id  age  gender  study_hours_per_day  social_media_hours  \\\n",
              "0      S1000   23  Female                  0.0                 1.2   \n",
              "1      S1001   20  Female                  6.9                 2.8   \n",
              "2      S1002   21    Male                  1.4                 3.1   \n",
              "3      S1003   23  Female                  1.0                 3.9   \n",
              "4      S1004   19  Female                  5.0                 4.4   \n",
              "\n",
              "   netflix_hours part_time_job  attendance_percentage  sleep_hours  \\\n",
              "0            1.1            No                   85.0          8.0   \n",
              "1            2.3            No                   97.3          4.6   \n",
              "2            1.3            No                   94.8          8.0   \n",
              "3            1.0            No                   71.0          9.2   \n",
              "4            0.5            No                   90.9          4.9   \n",
              "\n",
              "  diet_quality  exercise_frequency parental_education_level internet_quality  \\\n",
              "0         Fair                   6                   Master          Average   \n",
              "1         Good                   6              High School          Average   \n",
              "2         Poor                   1              High School             Poor   \n",
              "3         Poor                   4                   Master             Good   \n",
              "4         Fair                   3                   Master             Good   \n",
              "\n",
              "   mental_health_rating extracurricular_participation  exam_score  \n",
              "0                     8                           Yes        56.2  \n",
              "1                     8                            No       100.0  \n",
              "2                     1                            No        34.3  \n",
              "3                     1                           Yes        26.8  \n",
              "4                     1                            No        66.4  "
            ]
          },
          "execution_count": 4,
          "metadata": {},
          "output_type": "execute_result"
        }
      ],
      "source": [
        "# Unduh dataset dari Kaggle\n",
        "path = kagglehub.dataset_download(\"jayaantanaath/student-habits-vs-academic-performance\")\n",
        "\n",
        "# Tampilkan file yang tersedia\n",
        "print(\"Path dataset:\", path)\n",
        "print(os.listdir(path))\n",
        "\n",
        "# Baca file CSV\n",
        "df = pd.read_csv(os.path.join(path, 'student_habits_performance.csv'))\n",
        "\n",
        "# Tampilkan 5 baris pertama\n",
        "df.head()"
      ]
    },
    {
      "cell_type": "markdown",
      "metadata": {
        "id": "RgdBJm5xSy5-"
      },
      "source": [
        "✅ Step 3: Pemeriksaan Awal Dataset"
      ]
    },
    {
      "cell_type": "code",
      "execution_count": 5,
      "metadata": {
        "colab": {
          "base_uri": "https://localhost:8080/"
        },
        "id": "FJS7P7OkU54S",
        "outputId": "aed3f9dc-3fda-49d7-fd0e-bd94f8411550"
      },
      "outputs": [
        {
          "name": "stdout",
          "output_type": "stream",
          "text": [
            "Dimensi data: (1000, 16)\n"
          ]
        }
      ],
      "source": [
        "# Mengecek Berapa dimensi dari data\n",
        "print(\"Dimensi data:\", df.shape)"
      ]
    },
    {
      "cell_type": "code",
      "execution_count": null,
      "metadata": {
        "colab": {
          "base_uri": "https://localhost:8080/"
        },
        "id": "jAMUph7UU8S0",
        "outputId": "56705a2b-882c-4ef7-e7a4-bac2414e4812"
      },
      "outputs": [
        {
          "name": "stdout",
          "output_type": "stream",
          "text": [
            "\n",
            "Tipe data setiap kolom:\n",
            " student_id                        object\n",
            "age                                int64\n",
            "gender                            object\n",
            "study_hours_per_day              float64\n",
            "social_media_hours               float64\n",
            "netflix_hours                    float64\n",
            "part_time_job                     object\n",
            "attendance_percentage            float64\n",
            "sleep_hours                      float64\n",
            "diet_quality                      object\n",
            "exercise_frequency                 int64\n",
            "parental_education_level          object\n",
            "internet_quality                  object\n",
            "mental_health_rating               int64\n",
            "extracurricular_participation     object\n",
            "exam_score                       float64\n",
            "performance                        int64\n",
            "dtype: object\n"
          ]
        }
      ],
      "source": [
        "# Mengecek tipe dari data di setiap kolom\n",
        "print(\"\\nTipe data setiap kolom:\\n\", df.dtypes)"
      ]
    },
    {
      "cell_type": "code",
      "execution_count": null,
      "metadata": {
        "colab": {
          "base_uri": "https://localhost:8080/"
        },
        "id": "cfc1-zv5S0Gu",
        "outputId": "2c8a6e28-3fc3-4ed9-ce53-bdcd1c08c46e"
      },
      "outputs": [
        {
          "name": "stdout",
          "output_type": "stream",
          "text": [
            "\n",
            "Kolom kategorikal:\n",
            "\n",
            "student_id: ['S1000' 'S1001' 'S1002' 'S1003' 'S1004' 'S1005' 'S1006' 'S1007' 'S1008'\n",
            " 'S1009' 'S1010' 'S1011' 'S1012' 'S1013' 'S1014' 'S1015' 'S1016' 'S1017'\n",
            " 'S1018' 'S1019' 'S1020' 'S1021' 'S1022' 'S1023' 'S1024' 'S1025' 'S1026'\n",
            " 'S1027' 'S1028' 'S1029' 'S1030' 'S1031' 'S1032' 'S1033' 'S1034' 'S1035'\n",
            " 'S1036' 'S1037' 'S1038' 'S1039' 'S1040' 'S1041' 'S1042' 'S1043' 'S1044'\n",
            " 'S1045' 'S1046' 'S1047' 'S1048' 'S1049' 'S1050' 'S1051' 'S1052' 'S1053'\n",
            " 'S1054' 'S1055' 'S1056' 'S1057' 'S1058' 'S1059' 'S1060' 'S1061' 'S1062'\n",
            " 'S1063' 'S1064' 'S1065' 'S1066' 'S1067' 'S1068' 'S1069' 'S1070' 'S1071'\n",
            " 'S1072' 'S1073' 'S1074' 'S1075' 'S1076' 'S1077' 'S1078' 'S1079' 'S1080'\n",
            " 'S1081' 'S1082' 'S1083' 'S1084' 'S1085' 'S1086' 'S1087' 'S1088' 'S1089'\n",
            " 'S1090' 'S1091' 'S1092' 'S1093' 'S1094' 'S1095' 'S1096' 'S1097' 'S1098'\n",
            " 'S1099' 'S1100' 'S1101' 'S1102' 'S1103' 'S1104' 'S1105' 'S1106' 'S1107'\n",
            " 'S1108' 'S1109' 'S1110' 'S1111' 'S1112' 'S1113' 'S1114' 'S1115' 'S1116'\n",
            " 'S1117' 'S1118' 'S1119' 'S1120' 'S1121' 'S1122' 'S1123' 'S1124' 'S1125'\n",
            " 'S1126' 'S1127' 'S1128' 'S1129' 'S1130' 'S1131' 'S1132' 'S1133' 'S1134'\n",
            " 'S1135' 'S1136' 'S1137' 'S1138' 'S1139' 'S1140' 'S1141' 'S1142' 'S1143'\n",
            " 'S1144' 'S1145' 'S1146' 'S1147' 'S1148' 'S1149' 'S1150' 'S1151' 'S1152'\n",
            " 'S1153' 'S1154' 'S1155' 'S1156' 'S1157' 'S1158' 'S1159' 'S1160' 'S1161'\n",
            " 'S1162' 'S1163' 'S1164' 'S1165' 'S1166' 'S1167' 'S1168' 'S1169' 'S1170'\n",
            " 'S1171' 'S1172' 'S1173' 'S1174' 'S1175' 'S1176' 'S1177' 'S1178' 'S1179'\n",
            " 'S1180' 'S1181' 'S1182' 'S1183' 'S1184' 'S1185' 'S1186' 'S1187' 'S1188'\n",
            " 'S1189' 'S1190' 'S1191' 'S1192' 'S1193' 'S1194' 'S1195' 'S1196' 'S1197'\n",
            " 'S1198' 'S1199' 'S1200' 'S1201' 'S1202' 'S1203' 'S1204' 'S1205' 'S1206'\n",
            " 'S1207' 'S1208' 'S1209' 'S1210' 'S1211' 'S1212' 'S1213' 'S1214' 'S1215'\n",
            " 'S1216' 'S1217' 'S1218' 'S1219' 'S1220' 'S1221' 'S1222' 'S1223' 'S1224'\n",
            " 'S1225' 'S1226' 'S1227' 'S1228' 'S1229' 'S1230' 'S1231' 'S1232' 'S1233'\n",
            " 'S1234' 'S1235' 'S1236' 'S1237' 'S1238' 'S1239' 'S1240' 'S1241' 'S1242'\n",
            " 'S1243' 'S1244' 'S1245' 'S1246' 'S1247' 'S1248' 'S1249' 'S1250' 'S1251'\n",
            " 'S1252' 'S1253' 'S1254' 'S1255' 'S1256' 'S1257' 'S1258' 'S1259' 'S1260'\n",
            " 'S1261' 'S1262' 'S1263' 'S1264' 'S1265' 'S1266' 'S1267' 'S1268' 'S1269'\n",
            " 'S1270' 'S1271' 'S1272' 'S1273' 'S1274' 'S1275' 'S1276' 'S1277' 'S1278'\n",
            " 'S1279' 'S1280' 'S1281' 'S1282' 'S1283' 'S1284' 'S1285' 'S1286' 'S1287'\n",
            " 'S1288' 'S1289' 'S1290' 'S1291' 'S1292' 'S1293' 'S1294' 'S1295' 'S1296'\n",
            " 'S1297' 'S1298' 'S1299' 'S1300' 'S1301' 'S1302' 'S1303' 'S1304' 'S1305'\n",
            " 'S1306' 'S1307' 'S1308' 'S1309' 'S1310' 'S1311' 'S1312' 'S1313' 'S1314'\n",
            " 'S1315' 'S1316' 'S1317' 'S1318' 'S1319' 'S1320' 'S1321' 'S1322' 'S1323'\n",
            " 'S1324' 'S1325' 'S1326' 'S1327' 'S1328' 'S1329' 'S1330' 'S1331' 'S1332'\n",
            " 'S1333' 'S1334' 'S1335' 'S1336' 'S1337' 'S1338' 'S1339' 'S1340' 'S1341'\n",
            " 'S1342' 'S1343' 'S1344' 'S1345' 'S1346' 'S1347' 'S1348' 'S1349' 'S1350'\n",
            " 'S1351' 'S1352' 'S1353' 'S1354' 'S1355' 'S1356' 'S1357' 'S1358' 'S1359'\n",
            " 'S1360' 'S1361' 'S1362' 'S1363' 'S1364' 'S1365' 'S1366' 'S1367' 'S1368'\n",
            " 'S1369' 'S1370' 'S1371' 'S1372' 'S1373' 'S1374' 'S1375' 'S1376' 'S1377'\n",
            " 'S1378' 'S1379' 'S1380' 'S1381' 'S1382' 'S1383' 'S1384' 'S1385' 'S1386'\n",
            " 'S1387' 'S1388' 'S1389' 'S1390' 'S1391' 'S1392' 'S1393' 'S1394' 'S1395'\n",
            " 'S1396' 'S1397' 'S1398' 'S1399' 'S1400' 'S1401' 'S1402' 'S1403' 'S1404'\n",
            " 'S1405' 'S1406' 'S1407' 'S1408' 'S1409' 'S1410' 'S1411' 'S1412' 'S1413'\n",
            " 'S1414' 'S1415' 'S1416' 'S1417' 'S1418' 'S1419' 'S1420' 'S1421' 'S1422'\n",
            " 'S1423' 'S1424' 'S1425' 'S1426' 'S1427' 'S1428' 'S1429' 'S1430' 'S1431'\n",
            " 'S1432' 'S1433' 'S1434' 'S1435' 'S1436' 'S1437' 'S1438' 'S1439' 'S1440'\n",
            " 'S1441' 'S1442' 'S1443' 'S1444' 'S1445' 'S1446' 'S1447' 'S1448' 'S1449'\n",
            " 'S1450' 'S1451' 'S1452' 'S1453' 'S1454' 'S1455' 'S1456' 'S1457' 'S1458'\n",
            " 'S1459' 'S1460' 'S1461' 'S1462' 'S1463' 'S1464' 'S1465' 'S1466' 'S1467'\n",
            " 'S1468' 'S1469' 'S1470' 'S1471' 'S1472' 'S1473' 'S1474' 'S1475' 'S1476'\n",
            " 'S1477' 'S1478' 'S1479' 'S1480' 'S1481' 'S1482' 'S1483' 'S1484' 'S1485'\n",
            " 'S1486' 'S1487' 'S1488' 'S1489' 'S1490' 'S1491' 'S1492' 'S1493' 'S1494'\n",
            " 'S1495' 'S1496' 'S1497' 'S1498' 'S1499' 'S1500' 'S1501' 'S1502' 'S1503'\n",
            " 'S1504' 'S1505' 'S1506' 'S1507' 'S1508' 'S1509' 'S1510' 'S1511' 'S1512'\n",
            " 'S1513' 'S1514' 'S1515' 'S1516' 'S1517' 'S1518' 'S1519' 'S1520' 'S1521'\n",
            " 'S1522' 'S1523' 'S1524' 'S1525' 'S1526' 'S1527' 'S1528' 'S1529' 'S1530'\n",
            " 'S1531' 'S1532' 'S1533' 'S1534' 'S1535' 'S1536' 'S1537' 'S1538' 'S1539'\n",
            " 'S1540' 'S1541' 'S1542' 'S1543' 'S1544' 'S1545' 'S1546' 'S1547' 'S1548'\n",
            " 'S1549' 'S1550' 'S1551' 'S1552' 'S1553' 'S1554' 'S1555' 'S1556' 'S1557'\n",
            " 'S1558' 'S1559' 'S1560' 'S1561' 'S1562' 'S1563' 'S1564' 'S1565' 'S1566'\n",
            " 'S1567' 'S1568' 'S1569' 'S1570' 'S1571' 'S1572' 'S1573' 'S1574' 'S1575'\n",
            " 'S1576' 'S1577' 'S1578' 'S1579' 'S1580' 'S1581' 'S1582' 'S1583' 'S1584'\n",
            " 'S1585' 'S1586' 'S1587' 'S1588' 'S1589' 'S1590' 'S1591' 'S1592' 'S1593'\n",
            " 'S1594' 'S1595' 'S1596' 'S1597' 'S1598' 'S1599' 'S1600' 'S1601' 'S1602'\n",
            " 'S1603' 'S1604' 'S1605' 'S1606' 'S1607' 'S1608' 'S1609' 'S1610' 'S1611'\n",
            " 'S1612' 'S1613' 'S1614' 'S1615' 'S1616' 'S1617' 'S1618' 'S1619' 'S1620'\n",
            " 'S1621' 'S1622' 'S1623' 'S1624' 'S1625' 'S1626' 'S1627' 'S1628' 'S1629'\n",
            " 'S1630' 'S1631' 'S1632' 'S1633' 'S1634' 'S1635' 'S1636' 'S1637' 'S1638'\n",
            " 'S1639' 'S1640' 'S1641' 'S1642' 'S1643' 'S1644' 'S1645' 'S1646' 'S1647'\n",
            " 'S1648' 'S1649' 'S1650' 'S1651' 'S1652' 'S1653' 'S1654' 'S1655' 'S1656'\n",
            " 'S1657' 'S1658' 'S1659' 'S1660' 'S1661' 'S1662' 'S1663' 'S1664' 'S1665'\n",
            " 'S1666' 'S1667' 'S1668' 'S1669' 'S1670' 'S1671' 'S1672' 'S1673' 'S1674'\n",
            " 'S1675' 'S1676' 'S1677' 'S1678' 'S1679' 'S1680' 'S1681' 'S1682' 'S1683'\n",
            " 'S1684' 'S1685' 'S1686' 'S1687' 'S1688' 'S1689' 'S1690' 'S1691' 'S1692'\n",
            " 'S1693' 'S1694' 'S1695' 'S1696' 'S1697' 'S1698' 'S1699' 'S1700' 'S1701'\n",
            " 'S1702' 'S1703' 'S1704' 'S1705' 'S1706' 'S1707' 'S1708' 'S1709' 'S1710'\n",
            " 'S1711' 'S1712' 'S1713' 'S1714' 'S1715' 'S1716' 'S1717' 'S1718' 'S1719'\n",
            " 'S1720' 'S1721' 'S1722' 'S1723' 'S1724' 'S1725' 'S1726' 'S1727' 'S1728'\n",
            " 'S1729' 'S1730' 'S1731' 'S1732' 'S1733' 'S1734' 'S1735' 'S1736' 'S1737'\n",
            " 'S1738' 'S1739' 'S1740' 'S1741' 'S1742' 'S1743' 'S1744' 'S1745' 'S1746'\n",
            " 'S1747' 'S1748' 'S1749' 'S1750' 'S1751' 'S1752' 'S1753' 'S1754' 'S1755'\n",
            " 'S1756' 'S1757' 'S1758' 'S1759' 'S1760' 'S1761' 'S1762' 'S1763' 'S1764'\n",
            " 'S1765' 'S1766' 'S1767' 'S1768' 'S1769' 'S1770' 'S1771' 'S1772' 'S1773'\n",
            " 'S1774' 'S1775' 'S1776' 'S1777' 'S1778' 'S1779' 'S1780' 'S1781' 'S1782'\n",
            " 'S1783' 'S1784' 'S1785' 'S1786' 'S1787' 'S1788' 'S1789' 'S1790' 'S1791'\n",
            " 'S1792' 'S1793' 'S1794' 'S1795' 'S1796' 'S1797' 'S1798' 'S1799' 'S1800'\n",
            " 'S1801' 'S1802' 'S1803' 'S1804' 'S1805' 'S1806' 'S1807' 'S1808' 'S1809'\n",
            " 'S1810' 'S1811' 'S1812' 'S1813' 'S1814' 'S1815' 'S1816' 'S1817' 'S1818'\n",
            " 'S1819' 'S1820' 'S1821' 'S1822' 'S1823' 'S1824' 'S1825' 'S1826' 'S1827'\n",
            " 'S1828' 'S1829' 'S1830' 'S1831' 'S1832' 'S1833' 'S1834' 'S1835' 'S1836'\n",
            " 'S1837' 'S1838' 'S1839' 'S1840' 'S1841' 'S1842' 'S1843' 'S1844' 'S1845'\n",
            " 'S1846' 'S1847' 'S1848' 'S1849' 'S1850' 'S1851' 'S1852' 'S1853' 'S1854'\n",
            " 'S1855' 'S1856' 'S1857' 'S1858' 'S1859' 'S1860' 'S1861' 'S1862' 'S1863'\n",
            " 'S1864' 'S1865' 'S1866' 'S1867' 'S1868' 'S1869' 'S1870' 'S1871' 'S1872'\n",
            " 'S1873' 'S1874' 'S1875' 'S1876' 'S1877' 'S1878' 'S1879' 'S1880' 'S1881'\n",
            " 'S1882' 'S1883' 'S1884' 'S1885' 'S1886' 'S1887' 'S1888' 'S1889' 'S1890'\n",
            " 'S1891' 'S1892' 'S1893' 'S1894' 'S1895' 'S1896' 'S1897' 'S1898' 'S1899'\n",
            " 'S1900' 'S1901' 'S1902' 'S1903' 'S1904' 'S1905' 'S1906' 'S1907' 'S1908'\n",
            " 'S1909' 'S1910' 'S1911' 'S1912' 'S1913' 'S1914' 'S1915' 'S1916' 'S1917'\n",
            " 'S1918' 'S1919' 'S1920' 'S1921' 'S1922' 'S1923' 'S1924' 'S1925' 'S1926'\n",
            " 'S1927' 'S1928' 'S1929' 'S1930' 'S1931' 'S1932' 'S1933' 'S1934' 'S1935'\n",
            " 'S1936' 'S1937' 'S1938' 'S1939' 'S1940' 'S1941' 'S1942' 'S1943' 'S1944'\n",
            " 'S1945' 'S1946' 'S1947' 'S1948' 'S1949' 'S1950' 'S1951' 'S1952' 'S1953'\n",
            " 'S1954' 'S1955' 'S1956' 'S1957' 'S1958' 'S1959' 'S1960' 'S1961' 'S1962'\n",
            " 'S1963' 'S1964' 'S1965' 'S1966' 'S1967' 'S1968' 'S1969' 'S1970' 'S1971'\n",
            " 'S1972' 'S1973' 'S1974' 'S1975' 'S1976' 'S1977' 'S1978' 'S1979' 'S1980'\n",
            " 'S1981' 'S1982' 'S1983' 'S1984' 'S1985' 'S1986' 'S1987' 'S1988' 'S1989'\n",
            " 'S1990' 'S1991' 'S1992' 'S1993' 'S1994' 'S1995' 'S1996' 'S1997' 'S1998'\n",
            " 'S1999']\n",
            "gender: ['Female' 'Male' 'Other']\n",
            "part_time_job: ['No' 'Yes']\n",
            "diet_quality: ['Fair' 'Good' 'Poor']\n",
            "parental_education_level: ['Master' 'High School' 'Bachelor']\n",
            "internet_quality: ['Average' 'Poor' 'Good']\n",
            "extracurricular_participation: ['Yes' 'No']\n"
          ]
        }
      ],
      "source": [
        "# Cek nilai unik dan distribusi data kategorikal\n",
        "print(\"\\nKolom kategorikal:\\n\")\n",
        "for col in df.select_dtypes(include='object').columns:\n",
        "    print(f\"{col}: {df[col].unique()}\")"
      ]
    },
    {
      "cell_type": "markdown",
      "metadata": {
        "id": "eb1MAHnfTD1V"
      },
      "source": [
        "✅ Step 4: Pembersihan Data"
      ]
    },
    {
      "cell_type": "code",
      "execution_count": null,
      "metadata": {
        "colab": {
          "base_uri": "https://localhost:8080/"
        },
        "id": "pli2_29cVIlo",
        "outputId": "4c5beb44-5912-43f6-9bf4-01f56fa1800e"
      },
      "outputs": [
        {
          "name": "stdout",
          "output_type": "stream",
          "text": [
            "Missing values:\n",
            " student_id                       0\n",
            "age                              0\n",
            "gender                           0\n",
            "study_hours_per_day              0\n",
            "social_media_hours               0\n",
            "netflix_hours                    0\n",
            "part_time_job                    0\n",
            "attendance_percentage            0\n",
            "sleep_hours                      0\n",
            "diet_quality                     0\n",
            "exercise_frequency               0\n",
            "parental_education_level         0\n",
            "internet_quality                 0\n",
            "mental_health_rating             0\n",
            "extracurricular_participation    0\n",
            "exam_score                       0\n",
            "performance                      0\n",
            "dtype: int64\n"
          ]
        }
      ],
      "source": [
        "# Cek missing value\n",
        "print(\"Missing values:\\n\", df.isnull().sum())"
      ]
    },
    {
      "cell_type": "code",
      "execution_count": null,
      "metadata": {
        "colab": {
          "base_uri": "https://localhost:8080/"
        },
        "id": "3KYA4UGSVN6L",
        "outputId": "ab0899f4-567b-4296-9ed6-c4cc0302d3bb"
      },
      "outputs": [
        {
          "name": "stdout",
          "output_type": "stream",
          "text": [
            "\n",
            "Kolom dengan missing:\n",
            " Series([], dtype: int64)\n"
          ]
        }
      ],
      "source": [
        "# Tampilkan kolom yang punya missing values\n",
        "missing = df.isnull().sum()\n",
        "print(\"\\nKolom dengan missing:\\n\", missing[missing > 0])"
      ]
    },
    {
      "cell_type": "code",
      "execution_count": null,
      "metadata": {
        "colab": {
          "base_uri": "https://localhost:8080/"
        },
        "id": "Vog-uSqvVVJ7",
        "outputId": "f8a7378d-40dd-4901-feda-f4c90e31cd50"
      },
      "outputs": [
        {
          "name": "stdout",
          "output_type": "stream",
          "text": [
            "\n",
            "Jumlah data duplikat: 0\n"
          ]
        }
      ],
      "source": [
        "# Cek jumlah data duplikat\n",
        "print(\"\\nJumlah data duplikat:\", df.duplicated().sum())\n",
        "\n",
        "# Hapus duplikat\n",
        "df.drop_duplicates(inplace=True)"
      ]
    },
    {
      "cell_type": "code",
      "execution_count": null,
      "metadata": {
        "id": "3F8zf922TGin"
      },
      "outputs": [],
      "source": [
        "# Tangani missing values (isi parental_education_level dengan modus)\n",
        "df['parental_education_level'] = df['parental_education_level'].fillna(df['parental_education_level'].mode()[0])"
      ]
    },
    {
      "cell_type": "code",
      "execution_count": null,
      "metadata": {
        "colab": {
          "base_uri": "https://localhost:8080/"
        },
        "id": "yAK58l1bVhgL",
        "outputId": "4583edff-ca89-4959-9751-60f246b72fdb"
      },
      "outputs": [
        {
          "name": "stdout",
          "output_type": "stream",
          "text": [
            "\n",
            "Missing setelah dibersihkan:\n",
            " student_id                       0\n",
            "age                              0\n",
            "gender                           0\n",
            "study_hours_per_day              0\n",
            "social_media_hours               0\n",
            "netflix_hours                    0\n",
            "part_time_job                    0\n",
            "attendance_percentage            0\n",
            "sleep_hours                      0\n",
            "diet_quality                     0\n",
            "exercise_frequency               0\n",
            "parental_education_level         0\n",
            "internet_quality                 0\n",
            "mental_health_rating             0\n",
            "extracurricular_participation    0\n",
            "exam_score                       0\n",
            "performance                      0\n",
            "dtype: int64\n"
          ]
        }
      ],
      "source": [
        "# Verifikasi ulang\n",
        "print(\"\\nMissing setelah dibersihkan:\\n\", df.isnull().sum())"
      ]
    },
    {
      "cell_type": "code",
      "execution_count": null,
      "metadata": {
        "colab": {
          "base_uri": "https://localhost:8080/"
        },
        "id": "5-kSZIKKVlqA",
        "outputId": "cc54532e-f9a7-462e-d00f-08ecfaf0999f"
      },
      "outputs": [
        {
          "name": "stdout",
          "output_type": "stream",
          "text": [
            "Dimensi data setelah dibersihkan: (1000, 17)\n"
          ]
        }
      ],
      "source": [
        "# Mengecek dimensi dari data setelah dibersihkan\n",
        "print(\"Dimensi data setelah dibersihkan:\", df.shape)"
      ]
    },
    {
      "cell_type": "markdown",
      "metadata": {
        "id": "-GOVhqxvTPnK"
      },
      "source": [
        "✅ Step 5: Pemeriksaan Tipe Data"
      ]
    },
    {
      "cell_type": "code",
      "execution_count": null,
      "metadata": {
        "colab": {
          "base_uri": "https://localhost:8080/"
        },
        "id": "UzpZTknVTUUu",
        "outputId": "5d031860-d4d1-4d04-f256-9a7a8ae722ba"
      },
      "outputs": [
        {
          "name": "stdout",
          "output_type": "stream",
          "text": [
            "student_id                        object\n",
            "age                                int64\n",
            "gender                            object\n",
            "study_hours_per_day              float64\n",
            "social_media_hours               float64\n",
            "netflix_hours                    float64\n",
            "part_time_job                     object\n",
            "attendance_percentage            float64\n",
            "sleep_hours                      float64\n",
            "diet_quality                      object\n",
            "exercise_frequency                 int64\n",
            "parental_education_level          object\n",
            "internet_quality                  object\n",
            "mental_health_rating               int64\n",
            "extracurricular_participation     object\n",
            "exam_score                       float64\n",
            "dtype: object\n"
          ]
        }
      ],
      "source": [
        "# Ubah kolom menjadi numerik atau kategorikal\n",
        "print(df.dtypes)"
      ]
    },
    {
      "cell_type": "code",
      "execution_count": null,
      "metadata": {
        "colab": {
          "base_uri": "https://localhost:8080/"
        },
        "id": "-3WAHDcAXQ8m",
        "outputId": "c8241635-67ac-4f25-ac21-80bf8cc39d63"
      },
      "outputs": [
        {
          "name": "stdout",
          "output_type": "stream",
          "text": [
            "student_id                       category\n",
            "age                                 int64\n",
            "gender                           category\n",
            "study_hours_per_day               float64\n",
            "social_media_hours                float64\n",
            "netflix_hours                     float64\n",
            "part_time_job                    category\n",
            "attendance_percentage             float64\n",
            "sleep_hours                       float64\n",
            "diet_quality                     category\n",
            "exercise_frequency                  int64\n",
            "parental_education_level         category\n",
            "internet_quality                 category\n",
            "mental_health_rating                int64\n",
            "extracurricular_participation    category\n",
            "exam_score                        float64\n",
            "performance                         int64\n",
            "dtype: object\n"
          ]
        }
      ],
      "source": [
        "# Daftar kolom object yang akan diubah ke kategori\n",
        "categorical_columns = [\n",
        "    'student_id',\n",
        "    'gender',\n",
        "    'part_time_job',\n",
        "    'diet_quality',\n",
        "    'parental_education_level',\n",
        "    'internet_quality',\n",
        "    'extracurricular_participation'\n",
        "]\n",
        "\n",
        "# Ubah ke kategori\n",
        "for col in categorical_columns:\n",
        "    df[col] = df[col].astype('category')\n",
        "\n",
        "# Verifikasi tipe data setelah perubahan\n",
        "print(df.dtypes)"
      ]
    },
    {
      "cell_type": "markdown",
      "metadata": {
        "id": "l_Ku-7tKTYRc"
      },
      "source": [
        "✅ Step 6: Exploratory Data Analysis (EDA) + Insight"
      ]
    },
    {
      "cell_type": "code",
      "execution_count": null,
      "metadata": {
        "colab": {
          "base_uri": "https://localhost:8080/",
          "height": 320
        },
        "id": "UAuMoOF0eE5r",
        "outputId": "da776f66-11bc-4673-e4ea-014326fddcf3"
      },
      "outputs": [
        {
          "data": {
            "application/vnd.google.colaboratory.intrinsic+json": {
              "summary": "{\n  \"name\": \"df\",\n  \"rows\": 8,\n  \"fields\": [\n    {\n      \"column\": \"age\",\n      \"properties\": {\n        \"dtype\": \"number\",\n        \"std\": 347.2774706167576,\n        \"min\": 2.30809950464085,\n        \"max\": 1000.0,\n        \"num_unique_values\": 8,\n        \"samples\": [\n          20.498,\n          20.0,\n          1000.0\n        ],\n        \"semantic_type\": \"\",\n        \"description\": \"\"\n      }\n    },\n    {\n      \"column\": \"study_hours_per_day\",\n      \"properties\": {\n        \"dtype\": \"number\",\n        \"std\": 352.3536471471172,\n        \"min\": 0.0,\n        \"max\": 1000.0,\n        \"num_unique_values\": 8,\n        \"samples\": [\n          3.5501000000000005,\n          3.5,\n          1000.0\n        ],\n        \"semantic_type\": \"\",\n        \"description\": \"\"\n      }\n    },\n    {\n      \"column\": \"social_media_hours\",\n      \"properties\": {\n        \"dtype\": \"number\",\n        \"std\": 352.63149988869014,\n        \"min\": 0.0,\n        \"max\": 1000.0,\n        \"num_unique_values\": 8,\n        \"samples\": [\n          2.5055,\n          2.5,\n          1000.0\n        ],\n        \"semantic_type\": \"\",\n        \"description\": \"\"\n      }\n    },\n    {\n      \"column\": \"netflix_hours\",\n      \"properties\": {\n        \"dtype\": \"number\",\n        \"std\": 352.8690774999639,\n        \"min\": 0.0,\n        \"max\": 1000.0,\n        \"num_unique_values\": 8,\n        \"samples\": [\n          1.8197,\n          1.8,\n          1000.0\n        ],\n        \"semantic_type\": \"\",\n        \"description\": \"\"\n      }\n    },\n    {\n      \"column\": \"attendance_percentage\",\n      \"properties\": {\n        \"dtype\": \"number\",\n        \"std\": 329.37946577885697,\n        \"min\": 9.399246296429354,\n        \"max\": 1000.0,\n        \"num_unique_values\": 8,\n        \"samples\": [\n          84.1317,\n          84.4,\n          1000.0\n        ],\n        \"semantic_type\": \"\",\n        \"description\": \"\"\n      }\n    },\n    {\n      \"column\": \"sleep_hours\",\n      \"properties\": {\n        \"dtype\": \"number\",\n        \"std\": 351.5279731290736,\n        \"min\": 1.226376773259339,\n        \"max\": 1000.0,\n        \"num_unique_values\": 8,\n        \"samples\": [\n          6.4701,\n          6.5,\n          1000.0\n        ],\n        \"semantic_type\": \"\",\n        \"description\": \"\"\n      }\n    },\n    {\n      \"column\": \"exercise_frequency\",\n      \"properties\": {\n        \"dtype\": \"number\",\n        \"std\": 352.54526815077503,\n        \"min\": 0.0,\n        \"max\": 1000.0,\n        \"num_unique_values\": 8,\n        \"samples\": [\n          3.042,\n          3.0,\n          1000.0\n        ],\n        \"semantic_type\": \"\",\n        \"description\": \"\"\n      }\n    },\n    {\n      \"column\": \"mental_health_rating\",\n      \"properties\": {\n        \"dtype\": \"number\",\n        \"std\": 351.78314574876094,\n        \"min\": 1.0,\n        \"max\": 1000.0,\n        \"num_unique_values\": 8,\n        \"samples\": [\n          5.438,\n          5.0,\n          1000.0\n        ],\n        \"semantic_type\": \"\",\n        \"description\": \"\"\n      }\n    },\n    {\n      \"column\": \"exam_score\",\n      \"properties\": {\n        \"dtype\": \"number\",\n        \"std\": 333.8361700457515,\n        \"min\": 16.88856392181825,\n        \"max\": 1000.0,\n        \"num_unique_values\": 8,\n        \"samples\": [\n          69.6015,\n          70.5,\n          1000.0\n        ],\n        \"semantic_type\": \"\",\n        \"description\": \"\"\n      }\n    },\n    {\n      \"column\": \"performance\",\n      \"properties\": {\n        \"dtype\": \"number\",\n        \"std\": 353.3510431421299,\n        \"min\": 0.0,\n        \"max\": 1000.0,\n        \"num_unique_values\": 5,\n        \"samples\": [\n          0.511,\n          1.0,\n          0.5001291124591055\n        ],\n        \"semantic_type\": \"\",\n        \"description\": \"\"\n      }\n    }\n  ]\n}",
              "type": "dataframe"
            },
            "text/html": [
              "\n",
              "  <div id=\"df-15e176d0-4ac0-4fa7-8584-a6d4b75b2259\" class=\"colab-df-container\">\n",
              "    <div>\n",
              "<style scoped>\n",
              "    .dataframe tbody tr th:only-of-type {\n",
              "        vertical-align: middle;\n",
              "    }\n",
              "\n",
              "    .dataframe tbody tr th {\n",
              "        vertical-align: top;\n",
              "    }\n",
              "\n",
              "    .dataframe thead th {\n",
              "        text-align: right;\n",
              "    }\n",
              "</style>\n",
              "<table border=\"1\" class=\"dataframe\">\n",
              "  <thead>\n",
              "    <tr style=\"text-align: right;\">\n",
              "      <th></th>\n",
              "      <th>age</th>\n",
              "      <th>study_hours_per_day</th>\n",
              "      <th>social_media_hours</th>\n",
              "      <th>netflix_hours</th>\n",
              "      <th>attendance_percentage</th>\n",
              "      <th>sleep_hours</th>\n",
              "      <th>exercise_frequency</th>\n",
              "      <th>mental_health_rating</th>\n",
              "      <th>exam_score</th>\n",
              "      <th>performance</th>\n",
              "    </tr>\n",
              "  </thead>\n",
              "  <tbody>\n",
              "    <tr>\n",
              "      <th>count</th>\n",
              "      <td>1000.0000</td>\n",
              "      <td>1000.00000</td>\n",
              "      <td>1000.000000</td>\n",
              "      <td>1000.000000</td>\n",
              "      <td>1000.000000</td>\n",
              "      <td>1000.000000</td>\n",
              "      <td>1000.000000</td>\n",
              "      <td>1000.000000</td>\n",
              "      <td>1000.000000</td>\n",
              "      <td>1000.000000</td>\n",
              "    </tr>\n",
              "    <tr>\n",
              "      <th>mean</th>\n",
              "      <td>20.4980</td>\n",
              "      <td>3.55010</td>\n",
              "      <td>2.505500</td>\n",
              "      <td>1.819700</td>\n",
              "      <td>84.131700</td>\n",
              "      <td>6.470100</td>\n",
              "      <td>3.042000</td>\n",
              "      <td>5.438000</td>\n",
              "      <td>69.601500</td>\n",
              "      <td>0.511000</td>\n",
              "    </tr>\n",
              "    <tr>\n",
              "      <th>std</th>\n",
              "      <td>2.3081</td>\n",
              "      <td>1.46889</td>\n",
              "      <td>1.172422</td>\n",
              "      <td>1.075118</td>\n",
              "      <td>9.399246</td>\n",
              "      <td>1.226377</td>\n",
              "      <td>2.025423</td>\n",
              "      <td>2.847501</td>\n",
              "      <td>16.888564</td>\n",
              "      <td>0.500129</td>\n",
              "    </tr>\n",
              "    <tr>\n",
              "      <th>min</th>\n",
              "      <td>17.0000</td>\n",
              "      <td>0.00000</td>\n",
              "      <td>0.000000</td>\n",
              "      <td>0.000000</td>\n",
              "      <td>56.000000</td>\n",
              "      <td>3.200000</td>\n",
              "      <td>0.000000</td>\n",
              "      <td>1.000000</td>\n",
              "      <td>18.400000</td>\n",
              "      <td>0.000000</td>\n",
              "    </tr>\n",
              "    <tr>\n",
              "      <th>25%</th>\n",
              "      <td>18.7500</td>\n",
              "      <td>2.60000</td>\n",
              "      <td>1.700000</td>\n",
              "      <td>1.000000</td>\n",
              "      <td>78.000000</td>\n",
              "      <td>5.600000</td>\n",
              "      <td>1.000000</td>\n",
              "      <td>3.000000</td>\n",
              "      <td>58.475000</td>\n",
              "      <td>0.000000</td>\n",
              "    </tr>\n",
              "    <tr>\n",
              "      <th>50%</th>\n",
              "      <td>20.0000</td>\n",
              "      <td>3.50000</td>\n",
              "      <td>2.500000</td>\n",
              "      <td>1.800000</td>\n",
              "      <td>84.400000</td>\n",
              "      <td>6.500000</td>\n",
              "      <td>3.000000</td>\n",
              "      <td>5.000000</td>\n",
              "      <td>70.500000</td>\n",
              "      <td>1.000000</td>\n",
              "    </tr>\n",
              "    <tr>\n",
              "      <th>75%</th>\n",
              "      <td>23.0000</td>\n",
              "      <td>4.50000</td>\n",
              "      <td>3.300000</td>\n",
              "      <td>2.525000</td>\n",
              "      <td>91.025000</td>\n",
              "      <td>7.300000</td>\n",
              "      <td>5.000000</td>\n",
              "      <td>8.000000</td>\n",
              "      <td>81.325000</td>\n",
              "      <td>1.000000</td>\n",
              "    </tr>\n",
              "    <tr>\n",
              "      <th>max</th>\n",
              "      <td>24.0000</td>\n",
              "      <td>8.30000</td>\n",
              "      <td>7.200000</td>\n",
              "      <td>5.400000</td>\n",
              "      <td>100.000000</td>\n",
              "      <td>10.000000</td>\n",
              "      <td>6.000000</td>\n",
              "      <td>10.000000</td>\n",
              "      <td>100.000000</td>\n",
              "      <td>1.000000</td>\n",
              "    </tr>\n",
              "  </tbody>\n",
              "</table>\n",
              "</div>\n",
              "    <div class=\"colab-df-buttons\">\n",
              "\n",
              "  <div class=\"colab-df-container\">\n",
              "    <button class=\"colab-df-convert\" onclick=\"convertToInteractive('df-15e176d0-4ac0-4fa7-8584-a6d4b75b2259')\"\n",
              "            title=\"Convert this dataframe to an interactive table.\"\n",
              "            style=\"display:none;\">\n",
              "\n",
              "  <svg xmlns=\"http://www.w3.org/2000/svg\" height=\"24px\" viewBox=\"0 -960 960 960\">\n",
              "    <path d=\"M120-120v-720h720v720H120Zm60-500h600v-160H180v160Zm220 220h160v-160H400v160Zm0 220h160v-160H400v160ZM180-400h160v-160H180v160Zm440 0h160v-160H620v160ZM180-180h160v-160H180v160Zm440 0h160v-160H620v160Z\"/>\n",
              "  </svg>\n",
              "    </button>\n",
              "\n",
              "  <style>\n",
              "    .colab-df-container {\n",
              "      display:flex;\n",
              "      gap: 12px;\n",
              "    }\n",
              "\n",
              "    .colab-df-convert {\n",
              "      background-color: #E8F0FE;\n",
              "      border: none;\n",
              "      border-radius: 50%;\n",
              "      cursor: pointer;\n",
              "      display: none;\n",
              "      fill: #1967D2;\n",
              "      height: 32px;\n",
              "      padding: 0 0 0 0;\n",
              "      width: 32px;\n",
              "    }\n",
              "\n",
              "    .colab-df-convert:hover {\n",
              "      background-color: #E2EBFA;\n",
              "      box-shadow: 0px 1px 2px rgba(60, 64, 67, 0.3), 0px 1px 3px 1px rgba(60, 64, 67, 0.15);\n",
              "      fill: #174EA6;\n",
              "    }\n",
              "\n",
              "    .colab-df-buttons div {\n",
              "      margin-bottom: 4px;\n",
              "    }\n",
              "\n",
              "    [theme=dark] .colab-df-convert {\n",
              "      background-color: #3B4455;\n",
              "      fill: #D2E3FC;\n",
              "    }\n",
              "\n",
              "    [theme=dark] .colab-df-convert:hover {\n",
              "      background-color: #434B5C;\n",
              "      box-shadow: 0px 1px 3px 1px rgba(0, 0, 0, 0.15);\n",
              "      filter: drop-shadow(0px 1px 2px rgba(0, 0, 0, 0.3));\n",
              "      fill: #FFFFFF;\n",
              "    }\n",
              "  </style>\n",
              "\n",
              "    <script>\n",
              "      const buttonEl =\n",
              "        document.querySelector('#df-15e176d0-4ac0-4fa7-8584-a6d4b75b2259 button.colab-df-convert');\n",
              "      buttonEl.style.display =\n",
              "        google.colab.kernel.accessAllowed ? 'block' : 'none';\n",
              "\n",
              "      async function convertToInteractive(key) {\n",
              "        const element = document.querySelector('#df-15e176d0-4ac0-4fa7-8584-a6d4b75b2259');\n",
              "        const dataTable =\n",
              "          await google.colab.kernel.invokeFunction('convertToInteractive',\n",
              "                                                    [key], {});\n",
              "        if (!dataTable) return;\n",
              "\n",
              "        const docLinkHtml = 'Like what you see? Visit the ' +\n",
              "          '<a target=\"_blank\" href=https://colab.research.google.com/notebooks/data_table.ipynb>data table notebook</a>'\n",
              "          + ' to learn more about interactive tables.';\n",
              "        element.innerHTML = '';\n",
              "        dataTable['output_type'] = 'display_data';\n",
              "        await google.colab.output.renderOutput(dataTable, element);\n",
              "        const docLink = document.createElement('div');\n",
              "        docLink.innerHTML = docLinkHtml;\n",
              "        element.appendChild(docLink);\n",
              "      }\n",
              "    </script>\n",
              "  </div>\n",
              "\n",
              "\n",
              "    <div id=\"df-69b2ebc3-1ef0-404f-973f-9a9b969e7357\">\n",
              "      <button class=\"colab-df-quickchart\" onclick=\"quickchart('df-69b2ebc3-1ef0-404f-973f-9a9b969e7357')\"\n",
              "                title=\"Suggest charts\"\n",
              "                style=\"display:none;\">\n",
              "\n",
              "<svg xmlns=\"http://www.w3.org/2000/svg\" height=\"24px\"viewBox=\"0 0 24 24\"\n",
              "     width=\"24px\">\n",
              "    <g>\n",
              "        <path d=\"M19 3H5c-1.1 0-2 .9-2 2v14c0 1.1.9 2 2 2h14c1.1 0 2-.9 2-2V5c0-1.1-.9-2-2-2zM9 17H7v-7h2v7zm4 0h-2V7h2v10zm4 0h-2v-4h2v4z\"/>\n",
              "    </g>\n",
              "</svg>\n",
              "      </button>\n",
              "\n",
              "<style>\n",
              "  .colab-df-quickchart {\n",
              "      --bg-color: #E8F0FE;\n",
              "      --fill-color: #1967D2;\n",
              "      --hover-bg-color: #E2EBFA;\n",
              "      --hover-fill-color: #174EA6;\n",
              "      --disabled-fill-color: #AAA;\n",
              "      --disabled-bg-color: #DDD;\n",
              "  }\n",
              "\n",
              "  [theme=dark] .colab-df-quickchart {\n",
              "      --bg-color: #3B4455;\n",
              "      --fill-color: #D2E3FC;\n",
              "      --hover-bg-color: #434B5C;\n",
              "      --hover-fill-color: #FFFFFF;\n",
              "      --disabled-bg-color: #3B4455;\n",
              "      --disabled-fill-color: #666;\n",
              "  }\n",
              "\n",
              "  .colab-df-quickchart {\n",
              "    background-color: var(--bg-color);\n",
              "    border: none;\n",
              "    border-radius: 50%;\n",
              "    cursor: pointer;\n",
              "    display: none;\n",
              "    fill: var(--fill-color);\n",
              "    height: 32px;\n",
              "    padding: 0;\n",
              "    width: 32px;\n",
              "  }\n",
              "\n",
              "  .colab-df-quickchart:hover {\n",
              "    background-color: var(--hover-bg-color);\n",
              "    box-shadow: 0 1px 2px rgba(60, 64, 67, 0.3), 0 1px 3px 1px rgba(60, 64, 67, 0.15);\n",
              "    fill: var(--button-hover-fill-color);\n",
              "  }\n",
              "\n",
              "  .colab-df-quickchart-complete:disabled,\n",
              "  .colab-df-quickchart-complete:disabled:hover {\n",
              "    background-color: var(--disabled-bg-color);\n",
              "    fill: var(--disabled-fill-color);\n",
              "    box-shadow: none;\n",
              "  }\n",
              "\n",
              "  .colab-df-spinner {\n",
              "    border: 2px solid var(--fill-color);\n",
              "    border-color: transparent;\n",
              "    border-bottom-color: var(--fill-color);\n",
              "    animation:\n",
              "      spin 1s steps(1) infinite;\n",
              "  }\n",
              "\n",
              "  @keyframes spin {\n",
              "    0% {\n",
              "      border-color: transparent;\n",
              "      border-bottom-color: var(--fill-color);\n",
              "      border-left-color: var(--fill-color);\n",
              "    }\n",
              "    20% {\n",
              "      border-color: transparent;\n",
              "      border-left-color: var(--fill-color);\n",
              "      border-top-color: var(--fill-color);\n",
              "    }\n",
              "    30% {\n",
              "      border-color: transparent;\n",
              "      border-left-color: var(--fill-color);\n",
              "      border-top-color: var(--fill-color);\n",
              "      border-right-color: var(--fill-color);\n",
              "    }\n",
              "    40% {\n",
              "      border-color: transparent;\n",
              "      border-right-color: var(--fill-color);\n",
              "      border-top-color: var(--fill-color);\n",
              "    }\n",
              "    60% {\n",
              "      border-color: transparent;\n",
              "      border-right-color: var(--fill-color);\n",
              "    }\n",
              "    80% {\n",
              "      border-color: transparent;\n",
              "      border-right-color: var(--fill-color);\n",
              "      border-bottom-color: var(--fill-color);\n",
              "    }\n",
              "    90% {\n",
              "      border-color: transparent;\n",
              "      border-bottom-color: var(--fill-color);\n",
              "    }\n",
              "  }\n",
              "</style>\n",
              "\n",
              "      <script>\n",
              "        async function quickchart(key) {\n",
              "          const quickchartButtonEl =\n",
              "            document.querySelector('#' + key + ' button');\n",
              "          quickchartButtonEl.disabled = true;  // To prevent multiple clicks.\n",
              "          quickchartButtonEl.classList.add('colab-df-spinner');\n",
              "          try {\n",
              "            const charts = await google.colab.kernel.invokeFunction(\n",
              "                'suggestCharts', [key], {});\n",
              "          } catch (error) {\n",
              "            console.error('Error during call to suggestCharts:', error);\n",
              "          }\n",
              "          quickchartButtonEl.classList.remove('colab-df-spinner');\n",
              "          quickchartButtonEl.classList.add('colab-df-quickchart-complete');\n",
              "        }\n",
              "        (() => {\n",
              "          let quickchartButtonEl =\n",
              "            document.querySelector('#df-69b2ebc3-1ef0-404f-973f-9a9b969e7357 button');\n",
              "          quickchartButtonEl.style.display =\n",
              "            google.colab.kernel.accessAllowed ? 'block' : 'none';\n",
              "        })();\n",
              "      </script>\n",
              "    </div>\n",
              "\n",
              "    </div>\n",
              "  </div>\n"
            ],
            "text/plain": [
              "             age  study_hours_per_day  social_media_hours  netflix_hours  \\\n",
              "count  1000.0000           1000.00000         1000.000000    1000.000000   \n",
              "mean     20.4980              3.55010            2.505500       1.819700   \n",
              "std       2.3081              1.46889            1.172422       1.075118   \n",
              "min      17.0000              0.00000            0.000000       0.000000   \n",
              "25%      18.7500              2.60000            1.700000       1.000000   \n",
              "50%      20.0000              3.50000            2.500000       1.800000   \n",
              "75%      23.0000              4.50000            3.300000       2.525000   \n",
              "max      24.0000              8.30000            7.200000       5.400000   \n",
              "\n",
              "       attendance_percentage  sleep_hours  exercise_frequency  \\\n",
              "count            1000.000000  1000.000000         1000.000000   \n",
              "mean               84.131700     6.470100            3.042000   \n",
              "std                 9.399246     1.226377            2.025423   \n",
              "min                56.000000     3.200000            0.000000   \n",
              "25%                78.000000     5.600000            1.000000   \n",
              "50%                84.400000     6.500000            3.000000   \n",
              "75%                91.025000     7.300000            5.000000   \n",
              "max               100.000000    10.000000            6.000000   \n",
              "\n",
              "       mental_health_rating   exam_score  performance  \n",
              "count           1000.000000  1000.000000  1000.000000  \n",
              "mean               5.438000    69.601500     0.511000  \n",
              "std                2.847501    16.888564     0.500129  \n",
              "min                1.000000    18.400000     0.000000  \n",
              "25%                3.000000    58.475000     0.000000  \n",
              "50%                5.000000    70.500000     1.000000  \n",
              "75%                8.000000    81.325000     1.000000  \n",
              "max               10.000000   100.000000     1.000000  "
            ]
          },
          "execution_count": 28,
          "metadata": {},
          "output_type": "execute_result"
        }
      ],
      "source": [
        "# Statistika deskriptif\n",
        "df.describe()"
      ]
    },
    {
      "cell_type": "markdown",
      "metadata": {
        "id": "8XL9CoIScDT-"
      },
      "source": [
        "Berdasarkan analisis statistik deskriptif, terlihat bahwa rentang usia mahasiswa berkisar antara 17 hingga 24 tahun, dengan rata-rata sekitar 20,5 tahun, menunjukkan bahwa mayoritas mahasiswa berada pada usia tipikal pendidikan tinggi awal. Rata-rata waktu belajar mahasiswa adalah sekitar 3,55 jam per hari, dengan variasi cukup besar karena ada yang tidak belajar sama sekali hingga yang belajar lebih dari 8 jam per hari. Sementara itu, penggunaan media sosial dan Netflix juga cukup signifikan, masing-masing rata-rata 2,5 dan 1,8 jam per hari, dengan sebagian mahasiswa menghabiskan waktu yang sangat tinggi untuk aktivitas hiburan ini. Tingkat kehadiran menunjukkan nilai rata-rata 84,13%, mengindikasikan bahwa sebagian besar mahasiswa cukup konsisten hadir di kelas, meskipun ada yang kehadirannya sangat rendah. Dalam hal jam tidur, mahasiswa tidur rata-rata 6,47 jam per malam dengan sebagian kecil mengalami kekurangan tidur. Frekuensi olahraga menunjukkan rata-rata tiga kali seminggu, menandakan bahwa sebagian besar mahasiswa memiliki aktivitas fisik yang cukup teratur. Rating kesehatan mental berada pada angka rata-rata 5,44 dari skala 1–10, menunjukkan persepsi yang beragam terhadap kondisi mental mereka dengan standar deviasi yang besar. Nilai ujian rata-rata berada di angka 69,6 dari maksimum 100, dengan rentang nilai yang cukup luas dan distribusi yang merata. Terakhir, performa mahasiswa yang direpresentasikan dalam bentuk biner (0 dan 1) menunjukkan bahwa sekitar 51% mahasiswa dikategorikan berperforma baik, menjadikan distribusinya cukup seimbang dan potensial untuk keperluan klasifikasi dalam model analitik atau pembelajaran mesin."
      ]
    },
    {
      "cell_type": "code",
      "execution_count": null,
      "metadata": {
        "colab": {
          "base_uri": "https://localhost:8080/",
          "height": 1000
        },
        "id": "375GlOsETaoG",
        "outputId": "1f807e05-6ad5-4c5b-aba0-a8a7affdeac4"
      },
      "outputs": [
        {
          "data": {
            "image/png": "[encoded data removed]",
            "text/plain": [
              "<Figure size 1400x1000 with 2 Axes>"
            ]
          },
          "metadata": {},
          "output_type": "display_data"
        }
      ],
      "source": [
        "# Korelasi fitur numerik\n",
        "plt.figure(figsize=(14, 10))\n",
        "sns.heatmap(df.corr(numeric_only=True), annot=True, cmap='coolwarm', fmt=\".2f\")\n",
        "plt.title('Korelasi Antar Variabel Numerik')\n",
        "plt.show()"
      ]
    },
    {
      "cell_type": "markdown",
      "metadata": {
        "id": "jg94tQn2TfMq"
      },
      "source": [
        "💡 Insight:\n",
        "1. Hubungan antara waktu belajar per hari dengan nilai ujian (korelasi = 0.83)\n",
        "Terdapat hubungan yang sangat kuat dan positif antara jumlah jam belajar per hari dengan nilai ujian mahasiswa. Korelasi sebesar 0.83 menunjukkan bahwa semakin banyak waktu yang dihabiskan untuk belajar, maka semakin tinggi pula kemungkinan mahasiswa mendapatkan nilai ujian yang baik. Hal ini menegaskan pentingnya kebiasaan belajar yang konsisten dan terstruktur. Temuan ini juga dapat digunakan sebagai dasar untuk menyarankan mahasiswa agar meningkatkan intensitas belajarnya sebagai strategi peningkatan performa akademik. Namun, korelasi ini hanya menggambarkan kuantitas belajar, bukan kualitasnya, sehingga tetap dibutuhkan pendekatan yang holistik.\n",
        "\n",
        "2. Kesehatan mental dan pengaruhnya terhadap nilai ujian (korelasi = 0.32)\n",
        "Korelasi sebesar 0.32 antara penilaian kesehatan mental dan nilai ujian menunjukkan adanya hubungan positif yang sedang. Artinya, mahasiswa dengan kondisi mental yang lebih baik cenderung memperoleh nilai ujian yang lebih tinggi. Walaupun tidak sekuat pengaruh waktu belajar, hal ini mengindikasikan bahwa kesejahteraan mental tetap berperan penting dalam mendukung pencapaian akademik. Insight ini menyoroti perlunya perhatian terhadap aspek psikologis mahasiswa, karena kesehatan mental yang stabil dapat menunjang proses belajar yang lebih optimal.\n",
        "\n",
        "3. Frekuensi olahraga dan hubungannya dengan nilai ujian (korelasi = 0.16)\n",
        "Terdapat korelasi positif kecil antara frekuensi olahraga dengan nilai ujian, yaitu sebesar 0.16. Meskipun pengaruhnya tidak terlalu kuat, data ini mengisyaratkan bahwa aktivitas fisik secara rutin mungkin dapat membantu menjaga keseimbangan hidup dan berkontribusi terhadap performa akademik. Aktivitas fisik bisa berperan dalam meningkatkan konsentrasi, suasana hati, serta kebugaran, yang secara tidak langsung mendukung keberhasilan belajar.\n",
        "\n",
        "4. Durasi tidur dan pengaruhnya terhadap nilai ujian (korelasi = 0.12)\n",
        "Hubungan antara durasi tidur dan nilai ujian menunjukkan korelasi positif yang kecil, sebesar 0.12. Ini berarti bahwa tidur yang cukup memang memiliki manfaat bagi pencapaian akademik, namun bukan merupakan faktor penentu utama. Tidur yang teratur mungkin membantu meningkatkan fokus dan konsentrasi, meski pengaruhnya terhadap nilai ujian dalam dataset ini tidak terlalu signifikan.\n",
        "\n",
        "5. Pengaruh waktu penggunaan media sosial dan Netflix terhadap nilai ujian (korelasi = -0.17)\n",
        "Terdapat korelasi negatif kecil antara jumlah waktu yang dihabiskan untuk media sosial maupun Netflix dengan nilai ujian, keduanya sebesar -0.17. Artinya, semakin sering mahasiswa menggunakan waktu mereka untuk media hiburan ini, cenderung nilai ujiannya sedikit menurun. Meskipun korelasinya tidak besar, temuan ini dapat menjadi indikator awal bahwa distraksi digital seperti media sosial dan layanan streaming dapat berdampak buruk terhadap fokus belajar dan pencapaian akademik."
      ]
    },
    {
      "cell_type": "code",
      "execution_count": null,
      "metadata": {
        "colab": {
          "base_uri": "https://localhost:8080/",
          "height": 745
        },
        "id": "7PhpquqfdoPl",
        "outputId": "fbdbfb04-504d-4461-a0ba-e0af4f8a1786"
      },
      "outputs": [
        {
          "name": "stdout",
          "output_type": "stream",
          "text": [
            "Statistik Deskriptif untuk 'sleep_hours':\n"
          ]
        },
        {
          "data": {
            "text/html": [
              "<div>\n",
              "<style scoped>\n",
              "    .dataframe tbody tr th:only-of-type {\n",
              "        vertical-align: middle;\n",
              "    }\n",
              "\n",
              "    .dataframe tbody tr th {\n",
              "        vertical-align: top;\n",
              "    }\n",
              "\n",
              "    .dataframe thead th {\n",
              "        text-align: right;\n",
              "    }\n",
              "</style>\n",
              "<table border=\"1\" class=\"dataframe\">\n",
              "  <thead>\n",
              "    <tr style=\"text-align: right;\">\n",
              "      <th></th>\n",
              "      <th>sleep_hours</th>\n",
              "    </tr>\n",
              "  </thead>\n",
              "  <tbody>\n",
              "    <tr>\n",
              "      <th>count</th>\n",
              "      <td>1000.000000</td>\n",
              "    </tr>\n",
              "    <tr>\n",
              "      <th>mean</th>\n",
              "      <td>6.470100</td>\n",
              "    </tr>\n",
              "    <tr>\n",
              "      <th>std</th>\n",
              "      <td>1.226377</td>\n",
              "    </tr>\n",
              "    <tr>\n",
              "      <th>min</th>\n",
              "      <td>3.200000</td>\n",
              "    </tr>\n",
              "    <tr>\n",
              "      <th>25%</th>\n",
              "      <td>5.600000</td>\n",
              "    </tr>\n",
              "    <tr>\n",
              "      <th>50%</th>\n",
              "      <td>6.500000</td>\n",
              "    </tr>\n",
              "    <tr>\n",
              "      <th>75%</th>\n",
              "      <td>7.300000</td>\n",
              "    </tr>\n",
              "    <tr>\n",
              "      <th>max</th>\n",
              "      <td>10.000000</td>\n",
              "    </tr>\n",
              "  </tbody>\n",
              "</table>\n",
              "</div><br><label><b>dtype:</b> float64</label>"
            ],
            "text/plain": [
              "count    1000.000000\n",
              "mean        6.470100\n",
              "std         1.226377\n",
              "min         3.200000\n",
              "25%         5.600000\n",
              "50%         6.500000\n",
              "75%         7.300000\n",
              "max        10.000000\n",
              "Name: sleep_hours, dtype: float64"
            ]
          },
          "metadata": {},
          "output_type": "display_data"
        },
        {
          "data": {
            "image/png": "[encoded data removed]",
            "text/plain": [
              "<Figure size 600x400 with 1 Axes>"
            ]
          },
          "metadata": {},
          "output_type": "display_data"
        }
      ],
      "source": [
        "# Menampilkan statistik deskriptif dari jam tidur\n",
        "print(\"Statistik Deskriptif untuk 'sleep_hours':\")\n",
        "display(df['sleep_hours'].describe())\n",
        "\n",
        "plt.figure(figsize=(6, 4))\n",
        "sns.histplot(df['sleep_hours'], bins=20, kde=True, color='skyblue')\n",
        "plt.title('Distribusi Sleep Hours')\n",
        "plt.xlabel('Sleep Hours')\n",
        "plt.ylabel('Frekuensi')\n",
        "plt.show()"
      ]
    },
    {
      "cell_type": "markdown",
      "metadata": {
        "id": "2T8sVnjlRPQ-"
      },
      "source": [
        "Distribusi jam tidur menunjukkan bahwa mayoritas mahasiswa tidur selama 6 hingga 7 jam per hari. Sementara itu, frekuensi paling rendah terdapat pada durasi tidur ekstrem, yaitu hanya 3–4 jam atau hingga 10 jam per hari."
      ]
    },
    {
      "cell_type": "markdown",
      "metadata": {
        "id": "WJ8RDJTrZeh6"
      },
      "source": [
        "Distribusi ini membentuk pola menyerupai kurva normal, yang menandakan bahwa mayoritas responden memiliki pola tidur yang tergolong moderat."
      ]
    },
    {
      "cell_type": "code",
      "execution_count": null,
      "metadata": {
        "colab": {
          "base_uri": "https://localhost:8080/",
          "height": 745
        },
        "id": "4AoZG_x0esPH",
        "outputId": "263a85e8-b6da-4421-a31a-7dfb2edc7a4d"
      },
      "outputs": [
        {
          "name": "stdout",
          "output_type": "stream",
          "text": [
            "Statistik Deskriptif untuk 'study_hours_per_day':\n"
          ]
        },
        {
          "data": {
            "text/html": [
              "<div>\n",
              "<style scoped>\n",
              "    .dataframe tbody tr th:only-of-type {\n",
              "        vertical-align: middle;\n",
              "    }\n",
              "\n",
              "    .dataframe tbody tr th {\n",
              "        vertical-align: top;\n",
              "    }\n",
              "\n",
              "    .dataframe thead th {\n",
              "        text-align: right;\n",
              "    }\n",
              "</style>\n",
              "<table border=\"1\" class=\"dataframe\">\n",
              "  <thead>\n",
              "    <tr style=\"text-align: right;\">\n",
              "      <th></th>\n",
              "      <th>study_hours_per_day</th>\n",
              "    </tr>\n",
              "  </thead>\n",
              "  <tbody>\n",
              "    <tr>\n",
              "      <th>count</th>\n",
              "      <td>1000.00000</td>\n",
              "    </tr>\n",
              "    <tr>\n",
              "      <th>mean</th>\n",
              "      <td>3.55010</td>\n",
              "    </tr>\n",
              "    <tr>\n",
              "      <th>std</th>\n",
              "      <td>1.46889</td>\n",
              "    </tr>\n",
              "    <tr>\n",
              "      <th>min</th>\n",
              "      <td>0.00000</td>\n",
              "    </tr>\n",
              "    <tr>\n",
              "      <th>25%</th>\n",
              "      <td>2.60000</td>\n",
              "    </tr>\n",
              "    <tr>\n",
              "      <th>50%</th>\n",
              "      <td>3.50000</td>\n",
              "    </tr>\n",
              "    <tr>\n",
              "      <th>75%</th>\n",
              "      <td>4.50000</td>\n",
              "    </tr>\n",
              "    <tr>\n",
              "      <th>max</th>\n",
              "      <td>8.30000</td>\n",
              "    </tr>\n",
              "  </tbody>\n",
              "</table>\n",
              "</div><br><label><b>dtype:</b> float64</label>"
            ],
            "text/plain": [
              "count    1000.00000\n",
              "mean        3.55010\n",
              "std         1.46889\n",
              "min         0.00000\n",
              "25%         2.60000\n",
              "50%         3.50000\n",
              "75%         4.50000\n",
              "max         8.30000\n",
              "Name: study_hours_per_day, dtype: float64"
            ]
          },
          "metadata": {},
          "output_type": "display_data"
        },
        {
          "data": {
            "image/png": "[encoded data removed]",
            "text/plain": [
              "<Figure size 600x400 with 1 Axes>"
            ]
          },
          "metadata": {},
          "output_type": "display_data"
        }
      ],
      "source": [
        "# Menampilkan statistik deskriptif dari jam belajar\n",
        "print(\"Statistik Deskriptif untuk 'study_hours_per_day':\")\n",
        "display(df['study_hours_per_day'].describe())\n",
        "\n",
        "plt.figure(figsize=(6, 4))\n",
        "sns.histplot(df['study_hours_per_day'], bins=20, kde=True, color='lightgreen')\n",
        "plt.title('Distribusi Study Hours Per Day')\n",
        "plt.xlabel('Study Hours Per Day')\n",
        "plt.ylabel('Frekuensi')\n",
        "plt.show()"
      ]
    },
    {
      "cell_type": "markdown",
      "metadata": {
        "id": "5u-gBiTQRt5T"
      },
      "source": [
        "Distribusi jam belajar per hari menunjukkan bahwa sebagian besar responden belajar selama 2 hingga 4 jam per hari. Sementara itu, sangat sedikit responden yang belajar hingga 8 jam per hari, menjadikannya frekuensi terendah dalam distribusi ini."
      ]
    },
    {
      "cell_type": "markdown",
      "metadata": {
        "id": "KMzMpiYbZHPs"
      },
      "source": [
        "Distribusi ini menyerupai bentuk kurva normal, yang mengindikasikan bahwa pola belajar responden cenderung terkonsentrasi di jam-jam moderat."
      ]
    },
    {
      "cell_type": "code",
      "execution_count": null,
      "metadata": {
        "colab": {
          "base_uri": "https://localhost:8080/",
          "height": 745
        },
        "id": "JYwAclFIe6f3",
        "outputId": "d33fd2a2-56d9-4168-8e3e-cc2c06d97b66"
      },
      "outputs": [
        {
          "name": "stdout",
          "output_type": "stream",
          "text": [
            "Statistik Deskriptif untuk 'social_media_hours':\n"
          ]
        },
        {
          "data": {
            "text/html": [
              "<div>\n",
              "<style scoped>\n",
              "    .dataframe tbody tr th:only-of-type {\n",
              "        vertical-align: middle;\n",
              "    }\n",
              "\n",
              "    .dataframe tbody tr th {\n",
              "        vertical-align: top;\n",
              "    }\n",
              "\n",
              "    .dataframe thead th {\n",
              "        text-align: right;\n",
              "    }\n",
              "</style>\n",
              "<table border=\"1\" class=\"dataframe\">\n",
              "  <thead>\n",
              "    <tr style=\"text-align: right;\">\n",
              "      <th></th>\n",
              "      <th>social_media_hours</th>\n",
              "    </tr>\n",
              "  </thead>\n",
              "  <tbody>\n",
              "    <tr>\n",
              "      <th>count</th>\n",
              "      <td>1000.000000</td>\n",
              "    </tr>\n",
              "    <tr>\n",
              "      <th>mean</th>\n",
              "      <td>2.505500</td>\n",
              "    </tr>\n",
              "    <tr>\n",
              "      <th>std</th>\n",
              "      <td>1.172422</td>\n",
              "    </tr>\n",
              "    <tr>\n",
              "      <th>min</th>\n",
              "      <td>0.000000</td>\n",
              "    </tr>\n",
              "    <tr>\n",
              "      <th>25%</th>\n",
              "      <td>1.700000</td>\n",
              "    </tr>\n",
              "    <tr>\n",
              "      <th>50%</th>\n",
              "      <td>2.500000</td>\n",
              "    </tr>\n",
              "    <tr>\n",
              "      <th>75%</th>\n",
              "      <td>3.300000</td>\n",
              "    </tr>\n",
              "    <tr>\n",
              "      <th>max</th>\n",
              "      <td>7.200000</td>\n",
              "    </tr>\n",
              "  </tbody>\n",
              "</table>\n",
              "</div><br><label><b>dtype:</b> float64</label>"
            ],
            "text/plain": [
              "count    1000.000000\n",
              "mean        2.505500\n",
              "std         1.172422\n",
              "min         0.000000\n",
              "25%         1.700000\n",
              "50%         2.500000\n",
              "75%         3.300000\n",
              "max         7.200000\n",
              "Name: social_media_hours, dtype: float64"
            ]
          },
          "metadata": {},
          "output_type": "display_data"
        },
        {
          "data": {
            "image/png": "[encoded data removed]",
            "text/plain": [
              "<Figure size 600x400 with 1 Axes>"
            ]
          },
          "metadata": {},
          "output_type": "display_data"
        }
      ],
      "source": [
        "# Menampilkan statistik deskriptif dari jam bermain sosial media\n",
        "print(\"Statistik Deskriptif untuk 'social_media_hours':\")\n",
        "display(df['social_media_hours'].describe())\n",
        "\n",
        "plt.figure(figsize=(6, 4))\n",
        "sns.histplot(df['social_media_hours'], bins=20, kde=True, color='salmon')\n",
        "plt.title('Distribusi Social Media Hours')\n",
        "plt.xlabel('Social Media Hours')\n",
        "plt.ylabel('Frekuensi')\n",
        "plt.show()"
      ]
    },
    {
      "cell_type": "markdown",
      "metadata": {
        "id": "uVm-QXyVR9AZ"
      },
      "source": [
        "Distribusi durasi penggunaan media sosial menunjukkan bahwa sebagian besar responden menghabiskan waktu 2 hingga 3 jam per hari di media sosial, dengan frekuensi tertinggi berada pada rentang tersebut. Sementara itu, hanya sedikit responden yang menggunakan media sosial lebih dari 5 jam per hari."
      ]
    },
    {
      "cell_type": "markdown",
      "metadata": {
        "id": "EOEGx7VbYk4Z"
      },
      "source": [
        "Hal ini mengindikasikan bahwa penggunaan media sosial cukup intens di kalangan responden, namun masih dalam batas yang relatif wajar bagi mayoritas."
      ]
    },
    {
      "cell_type": "code",
      "execution_count": null,
      "metadata": {
        "colab": {
          "base_uri": "https://localhost:8080/",
          "height": 745
        },
        "id": "ZXTilbRUfETR",
        "outputId": "49c496c7-82c2-41a9-92b6-32c8c0d3e1e4"
      },
      "outputs": [
        {
          "name": "stdout",
          "output_type": "stream",
          "text": [
            "Statistik Deskriptif untuk 'netflix_hours':\n"
          ]
        },
        {
          "data": {
            "text/html": [
              "<div>\n",
              "<style scoped>\n",
              "    .dataframe tbody tr th:only-of-type {\n",
              "        vertical-align: middle;\n",
              "    }\n",
              "\n",
              "    .dataframe tbody tr th {\n",
              "        vertical-align: top;\n",
              "    }\n",
              "\n",
              "    .dataframe thead th {\n",
              "        text-align: right;\n",
              "    }\n",
              "</style>\n",
              "<table border=\"1\" class=\"dataframe\">\n",
              "  <thead>\n",
              "    <tr style=\"text-align: right;\">\n",
              "      <th></th>\n",
              "      <th>netflix_hours</th>\n",
              "    </tr>\n",
              "  </thead>\n",
              "  <tbody>\n",
              "    <tr>\n",
              "      <th>count</th>\n",
              "      <td>1000.000000</td>\n",
              "    </tr>\n",
              "    <tr>\n",
              "      <th>mean</th>\n",
              "      <td>1.819700</td>\n",
              "    </tr>\n",
              "    <tr>\n",
              "      <th>std</th>\n",
              "      <td>1.075118</td>\n",
              "    </tr>\n",
              "    <tr>\n",
              "      <th>min</th>\n",
              "      <td>0.000000</td>\n",
              "    </tr>\n",
              "    <tr>\n",
              "      <th>25%</th>\n",
              "      <td>1.000000</td>\n",
              "    </tr>\n",
              "    <tr>\n",
              "      <th>50%</th>\n",
              "      <td>1.800000</td>\n",
              "    </tr>\n",
              "    <tr>\n",
              "      <th>75%</th>\n",
              "      <td>2.525000</td>\n",
              "    </tr>\n",
              "    <tr>\n",
              "      <th>max</th>\n",
              "      <td>5.400000</td>\n",
              "    </tr>\n",
              "  </tbody>\n",
              "</table>\n",
              "</div><br><label><b>dtype:</b> float64</label>"
            ],
            "text/plain": [
              "count    1000.000000\n",
              "mean        1.819700\n",
              "std         1.075118\n",
              "min         0.000000\n",
              "25%         1.000000\n",
              "50%         1.800000\n",
              "75%         2.525000\n",
              "max         5.400000\n",
              "Name: netflix_hours, dtype: float64"
            ]
          },
          "metadata": {},
          "output_type": "display_data"
        },
        {
          "data": {
            "image/png": "[encoded data removed]",
            "text/plain": [
              "<Figure size 600x400 with 1 Axes>"
            ]
          },
          "metadata": {},
          "output_type": "display_data"
        }
      ],
      "source": [
        "# Menampilkan statistik deskriptif dari jam menonton netflix\n",
        "print(\"Statistik Deskriptif untuk 'netflix_hours':\")\n",
        "display(df['netflix_hours'].describe())\n",
        "\n",
        "plt.figure(figsize=(6, 4))\n",
        "sns.histplot(df['netflix_hours'], bins=20, kde=True, color='orchid')\n",
        "plt.title('Distribusi Netflix Hours')\n",
        "plt.xlabel('Netflix Hours')\n",
        "plt.ylabel('Frekuensi')\n",
        "plt.show()"
      ]
    },
    {
      "cell_type": "markdown",
      "metadata": {
        "id": "rasNurQlSN5Z"
      },
      "source": [
        "Distribusi durasi menonton Netflix menunjukkan bahwa sebagian besar responden menonton selama 0 hingga 3 jam per hari, dengan puncaknya pada kisaran 2 jam. Sementara itu, hanya sedikit responden yang menonton lebih dari 4 jam per hari, dengan titik terendah pada kisaran 5 jam."
      ]
    },
    {
      "cell_type": "markdown",
      "metadata": {
        "id": "8qIqFsa0YKv2"
      },
      "source": [
        "Hal ini menunjukkan bahwa kebiasaan menonton Netflix cenderung moderat di kalangan responden, dengan sebagian besar menonton dalam durasi yang masih terbilang wajar setiap harinya."
      ]
    },
    {
      "cell_type": "code",
      "execution_count": null,
      "metadata": {
        "colab": {
          "base_uri": "https://localhost:8080/",
          "height": 745
        },
        "id": "xhJI3G3jfMFZ",
        "outputId": "bca96990-e172-415f-c639-d0fa042ee445"
      },
      "outputs": [
        {
          "name": "stdout",
          "output_type": "stream",
          "text": [
            "Statistik Deskriptif untuk 'mental_health_rating':\n"
          ]
        },
        {
          "data": {
            "text/html": [
              "<div>\n",
              "<style scoped>\n",
              "    .dataframe tbody tr th:only-of-type {\n",
              "        vertical-align: middle;\n",
              "    }\n",
              "\n",
              "    .dataframe tbody tr th {\n",
              "        vertical-align: top;\n",
              "    }\n",
              "\n",
              "    .dataframe thead th {\n",
              "        text-align: right;\n",
              "    }\n",
              "</style>\n",
              "<table border=\"1\" class=\"dataframe\">\n",
              "  <thead>\n",
              "    <tr style=\"text-align: right;\">\n",
              "      <th></th>\n",
              "      <th>mental_health_rating</th>\n",
              "    </tr>\n",
              "  </thead>\n",
              "  <tbody>\n",
              "    <tr>\n",
              "      <th>count</th>\n",
              "      <td>1000.000000</td>\n",
              "    </tr>\n",
              "    <tr>\n",
              "      <th>mean</th>\n",
              "      <td>5.438000</td>\n",
              "    </tr>\n",
              "    <tr>\n",
              "      <th>std</th>\n",
              "      <td>2.847501</td>\n",
              "    </tr>\n",
              "    <tr>\n",
              "      <th>min</th>\n",
              "      <td>1.000000</td>\n",
              "    </tr>\n",
              "    <tr>\n",
              "      <th>25%</th>\n",
              "      <td>3.000000</td>\n",
              "    </tr>\n",
              "    <tr>\n",
              "      <th>50%</th>\n",
              "      <td>5.000000</td>\n",
              "    </tr>\n",
              "    <tr>\n",
              "      <th>75%</th>\n",
              "      <td>8.000000</td>\n",
              "    </tr>\n",
              "    <tr>\n",
              "      <th>max</th>\n",
              "      <td>10.000000</td>\n",
              "    </tr>\n",
              "  </tbody>\n",
              "</table>\n",
              "</div><br><label><b>dtype:</b> float64</label>"
            ],
            "text/plain": [
              "count    1000.000000\n",
              "mean        5.438000\n",
              "std         2.847501\n",
              "min         1.000000\n",
              "25%         3.000000\n",
              "50%         5.000000\n",
              "75%         8.000000\n",
              "max        10.000000\n",
              "Name: mental_health_rating, dtype: float64"
            ]
          },
          "metadata": {},
          "output_type": "display_data"
        },
        {
          "data": {
            "image/png": "[encoded data removed]",
            "text/plain": [
              "<Figure size 600x400 with 1 Axes>"
            ]
          },
          "metadata": {},
          "output_type": "display_data"
        }
      ],
      "source": [
        "# Menampilkan statistik deskriptif dari rating kesehatan mental\n",
        "print(\"Statistik Deskriptif untuk 'mental_health_rating':\")\n",
        "display(df['mental_health_rating'].describe())\n",
        "\n",
        "plt.figure(figsize=(6, 4))\n",
        "sns.histplot(df['mental_health_rating'], bins=10, kde=False, color='goldenrod')\n",
        "plt.title('Distribusi Mental Health Rating')\n",
        "plt.xlabel('Mental Health Rating')\n",
        "plt.ylabel('Frekuensi')\n",
        "plt.show()"
      ]
    },
    {
      "cell_type": "markdown",
      "metadata": {
        "id": "btG37149Sd2A"
      },
      "source": [
        "Distribusi mental health rating menunjukkan penyebaran yang relatif merata dari rating 1 hingga 10. Frekuensi masing-masing nilai berkisar antara 90 hingga 110, menandakan bahwa tidak ada rating tertentu yang mendominasi. Hal ini mengindikasikan persebaran penilaian kesehatan mental mahasiswa yang cenderung seimbang di seluruh rentang."
      ]
    },
    {
      "cell_type": "markdown",
      "metadata": {
        "id": "AhNULKe0X0--"
      },
      "source": [
        "Dengan distribusi yang merata ini, dapat diasumsikan bahwa persepsi mahasiswa terhadap kondisi mental mereka cukup beragam, tanpa adanya kecenderungan signifikan ke arah penilaian sangat rendah maupun sangat tinggi."
      ]
    },
    {
      "cell_type": "code",
      "execution_count": null,
      "metadata": {
        "colab": {
          "base_uri": "https://localhost:8080/",
          "height": 472
        },
        "id": "7wwqI-R2Tn7O",
        "outputId": "1a46c82e-9684-49be-9208-5fd77f356710"
      },
      "outputs": [
        {
          "data": {
            "image/png": "[encoded data removed]",
            "text/plain": [
              "<Figure size 640x480 with 1 Axes>"
            ]
          },
          "metadata": {},
          "output_type": "display_data"
        }
      ],
      "source": [
        "# Distribusi nilai ujian\n",
        "sns.histplot(df['exam_score'], kde=True)\n",
        "plt.title('Distribusi Nilai Ujian')\n",
        "plt.show()"
      ]
    },
    {
      "cell_type": "markdown",
      "metadata": {
        "id": "0eVGEmJtSvY6"
      },
      "source": [
        "Distribusi nilai ujian mahasiswa cenderung terkonsentrasi pada rentang 60 hingga 80, dengan jumlah mahasiswa dalam rentang ini mencapai lebih dari 100 orang. Grafik menunjukkan pola distribusi yang mendekati normal dengan sedikit kemiringan ke kiri (left-skewed), menandakan bahwa sebagian besar mahasiswa memperoleh nilai ujian sedang hingga tinggi."
      ]
    },
    {
      "cell_type": "markdown",
      "metadata": {
        "id": "ZOFWcwSIXM_w"
      },
      "source": [
        "Artinya, sebagian besar mahasiswa memiliki performa akademik yang cukup baik, meskipun masih ada sebagian kecil mahasiswa yang nilainya berada di bawah 50 atau sangat tinggi di atas 90."
      ]
    },
    {
      "cell_type": "code",
      "execution_count": null,
      "metadata": {
        "colab": {
          "base_uri": "https://localhost:8080/",
          "height": 472
        },
        "id": "AU_0-FsQaHPI",
        "outputId": "86ffe9b1-9b4e-4f74-95b3-28968471fcd3"
      },
      "outputs": [
        {
          "data": {
            "image/png": "[encoded data removed]",
            "text/plain": [
              "<Figure size 640x480 with 1 Axes>"
            ]
          },
          "metadata": {},
          "output_type": "display_data"
        }
      ],
      "source": [
        "# Performa berdasarkan pekerjaan paruh waktu\n",
        "sns.boxplot(x='part_time_job', y='exam_score', data=df)\n",
        "plt.title('Performa Akademik vs Pekerjaan Paruh Waktu')\n",
        "plt.show()"
      ]
    },
    {
      "cell_type": "markdown",
      "metadata": {
        "id": "Wj2N7UjsVZTr"
      },
      "source": [
        "Mahasiswa yang tidak bekerja cenderung memiliki nilai ujian sedikit lebih tinggi secara median. Namun, bekerja paruh waktu tidak secara drastis menurunkan nilai, sehingga dampaknya mungkin tidak terlalu signifikan. Tetap, ini menunjukkan bahwa waktu dan fokus belajar bisa sedikit terganggu bagi mahasiswa yang bekerja sambil kuliah."
      ]
    },
    {
      "cell_type": "markdown",
      "metadata": {
        "id": "nBjxdf5BTsqR"
      },
      "source": [
        "✅ Step 7: Persiapan Data untuk Machine Learning"
      ]
    },
    {
      "cell_type": "code",
      "execution_count": null,
      "metadata": {
        "id": "YBubCFHKTurS"
      },
      "outputs": [],
      "source": [
        "# Buat target biner: nilai >= 70 dianggap performa tinggi\n",
        "df['performance'] = df['exam_score'].apply(lambda x: 1 if x >= 70 else 0)\n",
        "\n",
        "# Drop kolom yang tidak relevan\n",
        "df_model = df.drop(['student_id', 'exam_score'], axis=1)\n",
        "\n",
        "# Label encoding untuk kolom kategorikal\n",
        "le = LabelEncoder()\n",
        "for col in df_model.select_dtypes(include='category').columns:\n",
        "    df_model[col] = le.fit_transform(df_model[col])\n",
        "\n",
        "# Pisahkan fitur dan target\n",
        "X = df_model.drop('performance', axis=1)\n",
        "y = df_model['performance']\n",
        "\n",
        "# Normalisasi fitur numerik\n",
        "scaler = StandardScaler()\n",
        "X_scaled = scaler.fit_transform(X)\n",
        "\n",
        "# Split data\n",
        "X_train, X_test, y_train, y_test = train_test_split(X_scaled, y, test_size=0.2, random_state=42)"
      ]
    },
    {
      "cell_type": "markdown",
      "metadata": {
        "id": "IeLrz5BoTysg"
      },
      "source": [
        "✅ Step 8: Pelatihan Model Machine Learning"
      ]
    },
    {
      "cell_type": "code",
      "execution_count": null,
      "metadata": {
        "colab": {
          "base_uri": "https://localhost:8080/"
        },
        "id": "FOnyg79YT1Ld",
        "outputId": "1f3b0e2b-facb-451a-9eac-60bfb965d562"
      },
      "outputs": [
        {
          "name": "stdout",
          "output_type": "stream",
          "text": [
            "Classification Report:\n",
            "               precision    recall  f1-score   support\n",
            "\n",
            "           0       0.81      0.86      0.84        95\n",
            "           1       0.87      0.82      0.84       105\n",
            "\n",
            "    accuracy                           0.84       200\n",
            "   macro avg       0.84      0.84      0.84       200\n",
            "weighted avg       0.84      0.84      0.84       200\n",
            "\n",
            "Confusion Matrix:\n",
            " [[82 13]\n",
            " [19 86]]\n"
          ]
        }
      ],
      "source": [
        "# Gunakan Random Forest Classifier\n",
        "model = RandomForestClassifier(random_state=42)\n",
        "model.fit(X_train, y_train)\n",
        "\n",
        "# Prediksi\n",
        "y_pred = model.predict(X_test)\n",
        "\n",
        "# Evaluasi\n",
        "print(\"Classification Report:\\n\", classification_report(y_test, y_pred))\n",
        "print(\"Confusion Matrix:\\n\", confusion_matrix(y_test, y_pred))"
      ]
    },
    {
      "cell_type": "markdown",
      "metadata": {
        "id": "O5Em0_FYWRsF"
      },
      "source": [
        "Model memiliki akurasi sebesar 84%, dengan precision dan recall yang cukup seimbang antara mahasiswa dengan nilai ujian tinggi dan rendah. Ini menunjukkan bahwa kebiasaan gaya hidup dalam dataset cukup informatif untuk memprediksi performa akademik."
      ]
    },
    {
      "cell_type": "markdown",
      "metadata": {
        "id": "x7NUjDUpT7Ih"
      },
      "source": [
        "✅ Step 9: Kesimpulan, Insight Akhir, dan Rekomendasi"
      ]
    },
    {
      "cell_type": "markdown",
      "metadata": {
        "id": "F5mfMrbfT-WQ"
      },
      "source": [
        "🔍 Insight:\n",
        "\n",
        "- Jam Belajar per Hari (Study Hours per Day):\n",
        "\n",
        "Faktor ini memiliki korelasi tertinggi terhadap nilai ujian, yaitu sebesar +0.83. Artinya, semakin banyak mahasiswa belajar setiap hari, semakin tinggi kemungkinan mereka meraih nilai ujian yang lebih baik.\n",
        "\n",
        "- Kesehatan Mental (Mental Health Rating):\n",
        "\n",
        "Korelasi positif sebesar +0.32 menunjukkan bahwa mahasiswa dengan kesehatan mental yang lebih baik cenderung meraih nilai ujian yang lebih tinggi. Ini mempertegas pentingnya kondisi psikologis dalam mendukung pencapaian akademik.\n",
        "\n",
        "- Frekuensi Olahraga (Exercise Frequency):\n",
        "\n",
        "Meski tidak sekuat dua faktor sebelumnya, olahraga tetap menunjukkan hubungan positif terhadap nilai ujian (+0.16), menandakan bahwa gaya hidup aktif mendukung performa akademik.\n",
        "\n",
        "- Jam Tidur (Sleep Hours):\n",
        "\n",
        "Memiliki korelasi +0.12, menunjukkan bahwa tidur cukup masih memiliki kontribusi terhadap nilai ujian, meskipun tidak terlalu signifikan. Rata-rata mahasiswa tidur selama 6,47 jam, di bawah rekomendasi ideal 7–9 jam.\n",
        "\n",
        "- Persentase Kehadiran (Attendance Percentage):\n",
        "\n",
        "Dengan korelasi rendah sekitar +0.09, kehadiran tinggi belum tentu berdampak langsung pada nilai. Ini mengindikasikan bahwa sekadar hadir tidak cukup tanpa pembelajaran aktif.\n",
        "\n",
        "- Waktu Menonton Netflix (Netflix Hours):\n",
        "\n",
        "Korelasi negatif sebesar -0.17 menunjukkan bahwa konsumsi hiburan berlebihan dapat menurunkan performa ujian, terutama jika tidak diimbangi dengan waktu belajar yang cukup.\n",
        "\n",
        "- Waktu Bermedia Sosial (Social Media Hours):\n",
        "\n",
        "Juga memiliki korelasi negatif yang sama yaitu -0.17, memperlihatkan bahwa penggunaan media sosial yang berlebihan bisa menjadi gangguan terhadap pencapaian akademik.\n",
        "\n",
        "- Sebaran Performa Akhir (Performance):\n",
        "\n",
        "Data menunjukkan distribusi hampir seimbang antara performa baik (1) dan kurang (0), menjadikan data ini cocok untuk klasifikasi biner dalam model prediktif berbasis kebiasaan belajar dan gaya hidup.\n",
        "\n",
        "- Variasi Gaya Hidup dan Kondisi Mahasiswa:\n",
        "\n",
        "Nilai standar deviasi tinggi pada variabel seperti kesehatan mental dan olahraga menunjukkan bahwa mahasiswa memiliki kebiasaan dan kondisi yang sangat bervariasi, yang bisa mempengaruhi cara mereka meraih prestasi.\n"
      ]
    },
    {
      "cell_type": "markdown",
      "metadata": {
        "id": "8yntnudPUE8-"
      },
      "source": [
        "🧠 Kesimpulan:\n",
        "\n",
        "Performa akademik mahasiswa paling dipengaruhi oleh jam belajar per hari, yang secara signifikan berkorelasi dengan nilai ujian. Faktor pendukung seperti kesehatan mental, olahraga, dan tidur cukup juga memainkan peran penting, meski dalam skala lebih kecil. Sementara itu, waktu untuk hiburan seperti media sosial dan Netflix justru cenderung mengurangi performa akademik jika dilakukan secara berlebihan. Meskipun tingkat kehadiran cukup tinggi, keberhasilan akademik lebih ditentukan oleh usaha mandiri dan kebiasaan sehari-hari mahasiswa. Variasi gaya hidup dan kondisi tiap individu menambah kompleksitas dalam analisis ini, namun sekaligus membuka peluang untuk pendekatan yang lebih personal dalam peningkatan prestasi."
      ]
    },
    {
      "cell_type": "markdown",
      "metadata": {
        "id": "WA0Zh0hqUIYN"
      },
      "source": [
        "🧭 REKOMENDASI BERDASARKAN INSIGHT & KESIMPULAN\n",
        "\n",
        "1. Tingkatkan Durasi dan Kualitas Belajar:\n",
        "\n",
        "Mahasiswa disarankan untuk memiliki rutinitas belajar harian minimal 3–4 jam yang terfokus, karena faktor ini memiliki pengaruh terbesar terhadap nilai ujian.\n",
        "\n",
        "2. Perkuat Dukungan Kesehatan Mental:\n",
        "\n",
        "Institusi pendidikan perlu menyediakan layanan psikologis dan program peningkatan kesadaran kesehatan mental agar mahasiswa dapat menjaga kestabilan emosionalnya.\n",
        "\n",
        "3. Fasilitasi Gaya Hidup Sehat dan Aktif:\n",
        "\n",
        "Mahasiswa perlu didorong untuk menjaga kebugaran dengan rutin berolahraga dan tidur cukup. Hal ini bisa difasilitasi lewat kebijakan kampus seperti jam belajar fleksibel atau penyediaan sarana olahraga.\n",
        "\n",
        "4. Kurangi Konsumsi Hiburan Berlebihan:\n",
        "\n",
        "Penggunaan media sosial dan platform hiburan seperti Netflix perlu dibatasi agar tidak mengganggu waktu belajar. Edukasi tentang manajemen waktu digital bisa sangat membantu.\n",
        "\n",
        "5. Dorong Pembelajaran Aktif dan Mandiri:\n",
        "\n",
        "Kehadiran kelas harus disertai strategi pembelajaran aktif agar lebih berdampak pada hasil belajar, seperti diskusi kelompok, tugas berbasis proyek, atau flipped classroom.\n",
        "\n",
        "6. Gunakan Data sebagai Dasar Sistem Deteksi Dini:\n",
        "\n",
        "Dengan pola ini, institusi bisa membangun sistem prediksi performa akademik untuk memberikan dukungan dini bagi mahasiswa yang berisiko mengalami penurunan nilai.\n",
        "\n",
        "7. Sesuaikan Program Akademik dan Non-akademik dengan Realita Mahasiswa:\n",
        "\n",
        "Karena gaya hidup mahasiswa sangat beragam, pendekatan fleksibel dan berbasis kebutuhan aktual akan jauh lebih efektif dibanding pendekatan seragam yang kaku."
      ]
    }
  ],
  "metadata": {
    "colab": {
      "provenance": []
    },
    "kernelspec": {
      "display_name": "Python 3",
      "name": "python3"
    },
    "language_info": {
      "name": "python",
      "version": "3.12.0"
    }
  },
  "nbformat": 4,
  "nbformat_minor": 0
}
